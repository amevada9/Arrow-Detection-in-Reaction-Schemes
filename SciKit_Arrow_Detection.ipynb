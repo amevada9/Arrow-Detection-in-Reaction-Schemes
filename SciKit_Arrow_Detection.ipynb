{
 "cells": [
  {
   "cell_type": "markdown",
   "metadata": {},
   "source": [
    "# Using Scikit-Image to do Arrow Matching"
   ]
  },
  {
   "cell_type": "markdown",
   "metadata": {},
   "source": [
    "## This notebook is working on creating the arrow classifer for the reaction schemes"
   ]
  },
  {
   "cell_type": "code",
   "execution_count": 1,
   "metadata": {},
   "outputs": [],
   "source": [
    "import os\n",
    "import cv2\n",
    "import math \n",
    "import imutils\n",
    "import json\n",
    "import copy\n",
    "import logging\n",
    "\n",
    "import scipy\n",
    "import numpy as np\n",
    "from scipy import ndimage as ndi\n",
    "import matplotlib.pyplot as plt\n",
    "\n",
    "import pytesseract\n",
    "from pytesseract import Output\n",
    "\n",
    "import sklearn\n",
    "from sklearn.cluster import KMeans\n",
    "\n",
    "import skimage\n",
    "from skimage import io\n",
    "from skimage.util import pad\n",
    "from skimage.color import rgb2gray\n",
    "from skimage.measure import regionprops\n",
    "from skimage.measure import find_contours\n",
    "from skimage.util import crop as crop_skimage\n",
    "from skimage.util import random_noise\n",
    "from skimage.morphology import binary_closing, disk\n",
    "from skimage.morphology import skeletonize as skeletonize_skimage\n",
    "\n",
    "import tensorflow as tf\n",
    "from tensorflow import keras\n",
    "from tensorflow.keras.regularizers import l1, l2\n",
    "from tensorflow.keras.utils import to_categorical\n",
    "from tensorflow.keras.models import Sequential\n",
    "from tensorflow.keras.layers import Conv2D\n",
    "from tensorflow.keras.layers import MaxPooling2D\n",
    "from tensorflow.keras.layers import Dense\n",
    "from tensorflow.keras.layers import Flatten\n",
    "from tensorflow.keras.optimizers import SGD\n",
    "from tensorflow.keras.optimizers import RMSprop\n",
    "from tensorflow.keras.preprocessing.image import ImageDataGenerator\n",
    "\n",
    "import sklearn\n",
    "from sklearn.cluster import KMeans\n",
    "from sklearn.model_selection import KFold\n",
    "from sklearn.metrics import classification_report\n",
    "from sklearn.metrics import accuracy_score\n",
    "\n",
    "from scikit_arrow_utils import arrow_average, arrow_centroid, line_mag, get_orientation, get_direction\n",
    "from image_utils import binary_close, binarize, binary_floodfill, skeletonize, pixel_ratio, skeletonize_area_ratio\n",
    "from scikit_scripts import pad_image, segment_image, show_contours, get_image_contours"
   ]
  },
  {
   "cell_type": "code",
   "execution_count": 2,
   "metadata": {},
   "outputs": [],
   "source": [
    "def split_contours(input_contours):\n",
    "    ''' \n",
    "    Method to pad the contours and allow for multiple contours to be passed through \n",
    "    the pad image function one at a time. Need this method because of how weird the \n",
    "    OpenCV outputs contours \n",
    "    \n",
    "    @PARAM:\n",
    "        - input_contours: contours that we want to split up. Need to be at least length 1\n",
    "    @RETURN:\n",
    "        - if the len(input_contours) > 1, then we return a new list with contours split up\n",
    "        - Else we return just return the original list for simplicity. \n",
    "    \n",
    "    Note: if input_contours do not have the needed number of contours then the function will\n",
    "          raise a value error. \n",
    "    '''\n",
    "    if len(input_contours) == 0:\n",
    "        raise ValueError(\"Input Contours Need at least 1 contour in them\")\n",
    "    elif len(input_contours) > 1:\n",
    "        # Return list is the list of all contours\n",
    "        return_list = []\n",
    "        for cnt in input_contours:\n",
    "            # New list is just compartmentalizing all the singular contours\n",
    "            # Each one should have just length 1\n",
    "            new_list = []\n",
    "            new_list.append(cnt)\n",
    "            return_list.append(new_list)\n",
    "        return np.array(return_list)\n",
    "    return np.array(input_contours)"
   ]
  },
  {
   "cell_type": "code",
   "execution_count": 3,
   "metadata": {},
   "outputs": [],
   "source": [
    "def define_model():\n",
    "    ''' \n",
    "    Function that creates the Convolutional Neural Network that we need.\n",
    "    Has 6 convolutional layers, and 2 flattened layers at the end for binary\n",
    "    classification. Uses a binary crossentropy loss function, and a RMSprop \n",
    "    optimizer with a learning rate of 0.001. After 8 training epochs has an accuracy of \n",
    "    0.9427. Can definitly add more contours if needed later \n",
    "    \n",
    "    Summary:\n",
    "    Model: \"Sequential\"\n",
    "    _________________________________________________________________\n",
    "    Layer (type)                 Output Shape              Param #   \n",
    "    =================================================================\n",
    "    conv2d (Conv2D)              (None, 498, 498, 16)      448       \n",
    "    _________________________________________________________________\n",
    "    max_pooling2d (MaxPooling2D) (None, 249, 249, 16)      0         \n",
    "    _________________________________________________________________\n",
    "    conv2d_1 (Conv2D)            (None, 247, 247, 32)      4640      \n",
    "    _________________________________________________________________\n",
    "    max_pooling2d_1 (MaxPooling2 (None, 123, 123, 32)      0         \n",
    "    _________________________________________________________________\n",
    "    conv2d_2 (Conv2D)            (None, 121, 121, 64)      18496     \n",
    "    _________________________________________________________________\n",
    "    max_pooling2d_2 (MaxPooling2 (None, 60, 60, 64)        0         \n",
    "    _________________________________________________________________\n",
    "    conv2d_3 (Conv2D)            (None, 58, 58, 64)        36928     \n",
    "    _________________________________________________________________\n",
    "    max_pooling2d_3 (MaxPooling2 (None, 29, 29, 64)        0         \n",
    "    _________________________________________________________________\n",
    "    conv2d_4 (Conv2D)            (None, 27, 27, 64)        36928     \n",
    "    _________________________________________________________________\n",
    "    max_pooling2d_4 (MaxPooling2 (None, 13, 13, 64)        0         \n",
    "    _________________________________________________________________\n",
    "    conv2d_5 (Conv2D)            (None, 11, 11, 64)        36928     \n",
    "    _________________________________________________________________\n",
    "    max_pooling2d_5 (MaxPooling2 (None, 5, 5, 64)          0         \n",
    "    _________________________________________________________________\n",
    "    flatten (Flatten)            (None, 1600)              0         \n",
    "    _________________________________________________________________\n",
    "    dense (Dense)                (None, 256)               409856    \n",
    "    _________________________________________________________________\n",
    "    dense_1 (Dense)              (None, 1)                 257       \n",
    "    =================================================================\n",
    "    Total params: 544,481\n",
    "    Trainable params: 544,481\n",
    "    Non-trainable params: 0\n",
    "    _________________________________________________________________\n",
    "    \n",
    "    @RETURN: the compiled version of this model. Still needs fitting and training later \n",
    "             (8-10 epochs, should take about 20-25 min)\n",
    "    \n",
    "    '''\n",
    "    \n",
    "    model = keras.Sequential()\n",
    "    # First Convolution\n",
    "    model.add(Conv2D(16, (3, 3), activation='relu', input_shape=(500, 500, 1), activity_regularizer=l2(0.01)))\n",
    "    model.add(MaxPooling2D((2, 2)))\n",
    "    model.add(keras.layers.Dropout(0.25))\n",
    "    # Second Convolution\n",
    "    model.add(Conv2D(32, (3, 3), activity_regularizer=l2(0.01), activation='relu'))\n",
    "    model.add(MaxPooling2D((2, 2)))\n",
    "    model.add(keras.layers.Dropout(0.25))\n",
    "    # Third Convolution \n",
    "    model.add(Conv2D(32, (3, 3), activity_regularizer=l2(0.01),  activation='relu'))\n",
    "    model.add(MaxPooling2D(2,2))\n",
    "    model.add(keras.layers.Dropout(0.25))\n",
    "    # The fourth convolution\n",
    "    model.add(Conv2D(32, (3, 3), activity_regularizer=l2(0.01), activation='relu'))\n",
    "    model.add(MaxPooling2D(2,2))\n",
    "    model.add(keras.layers.Dropout(0.25))\n",
    "    # The fifth convolution\n",
    "    model.add(Conv2D(32, (3, 3), activity_regularizer=l2(0.01), activation='relu'))\n",
    "    model.add(MaxPooling2D(2,2))\n",
    "    model.add(keras.layers.Dropout(0.25))\n",
    "    # Sixth Convolution (Wow)\n",
    "    model.add(Conv2D(32, (3, 3), activity_regularizer=l2(0.01), activation='relu'))\n",
    "    model.add(MaxPooling2D(2,2))\n",
    "    model.add(keras.layers.Dropout(0.25))\n",
    "    # Flatten and feed to a normal DNN\n",
    "    model.add(Flatten())\n",
    "    model.add(Dense(256, activity_regularizer=l2(0.01), activation= 'relu'))\n",
    "    # Gives us value between 0 and 1 for what it thinks\n",
    "    model.add(Dense(1, activity_regularizer=l2(0.01), activation = 'sigmoid'))\n",
    "    \n",
    "    # Use binary crossentropy loss function to create binary classifer\n",
    "    loss_fn = 'binary_crossentropy'\n",
    "    opt = RMSprop()\n",
    "    model.compile(optimizer= opt, loss=loss_fn, metrics=['accuracy'])\n",
    "    \n",
    "    return model"
   ]
  },
  {
   "cell_type": "code",
   "execution_count": 4,
   "metadata": {},
   "outputs": [],
   "source": [
    "def evaluate_model(dataX, dataY, n_folds=5):\n",
    "    '''\n",
    "    Function that trains and evaluates a model \n",
    "    '''\n",
    "    scores, histories = list(), list()\n",
    "    # define model\n",
    "    model = define_model()\n",
    "    # prepare cross validation\n",
    "    kfold = KFold(n_folds, shuffle=True, random_state=1)\n",
    "    # enumerate splits\n",
    "    counter = 1\n",
    "    for train_ix, test_ix in kfold.split(dataX):\n",
    "        print('Beginning Fold: ' + str(counter))\n",
    "        # select rows for train and test\n",
    "        trainX, trainY, testX, testY = dataX[train_ix], dataY[train_ix], dataX[test_ix], dataY[test_ix]\n",
    "        # fit model\n",
    "        history = model.fit(trainX, trainY, epochs = 5, batch_size=32, validation_data=(testX, testY), verbose=1)\n",
    "        # evaluate model\n",
    "        _, acc = model.evaluate(testX, testY, verbose=1)\n",
    "        print()\n",
    "        print('> %.3f' % (acc * 100.0))\n",
    "        print()\n",
    "        # append scores\n",
    "        scores.append(acc)\n",
    "        histories.append(history)\n",
    "        counter += 1\n",
    "    return model, scores, histories"
   ]
  },
  {
   "cell_type": "code",
   "execution_count": 5,
   "metadata": {},
   "outputs": [],
   "source": [
    "def summarize_diagnostics(history):\n",
    "    ''' \n",
    "    Function that takes in the history object that model.fit() throws out,\n",
    "    and unpacks it to plot the Cross Entropy Loss and Accuracy of the model\n",
    "    Useful to compare the Training and Validation Set\n",
    "    '''\n",
    "    # plot loss\n",
    "    plt.subplot(211)\n",
    "    plt.ylim(0, 1)\n",
    "    plt.title('Cross Entropy Loss')\n",
    "    plt.plot(history.history['loss'], color='blue', label='Training Set')\n",
    "    plt.plot(history.history['val_loss'], color='orange', label='Validation Set')\n",
    "    plt.xlabel('Epoch')\n",
    "    plt.ylabel('Loss Value')\n",
    "    plt.legend()\n",
    "\n",
    "    # plot accuracy\n",
    "    plt.subplot(212)\n",
    "    plt.ylim(0.5, 1.0)\n",
    "    plt.title('Classification Accuracy')\n",
    "    plt.plot(history.history['accuracy'], color='blue', label='Training Set')\n",
    "    plt.plot(history.history['val_accuracy'], color='orange', label='Validation Set')\n",
    "    plt.xlabel('Epoch')\n",
    "    plt.ylabel('Accuracy')\n",
    "    plt.legend()\n",
    "\n",
    "    plt.tight_layout()\n",
    "    plt.show()"
   ]
  },
  {
   "cell_type": "code",
   "execution_count": 6,
   "metadata": {},
   "outputs": [],
   "source": [
    "def summarize_performance(scores):\n",
    "    # print summary\n",
    "    print('Accuracy: mean=%.3f std=%.3f, n=%d' % (mean(scores)*100, std(scores)*100, len(scores)))\n",
    "    # box and whisker plots of results\n",
    "    pyplot.boxplot(scores)\n",
    "    pyplot.show()"
   ]
  },
  {
   "cell_type": "code",
   "execution_count": 7,
   "metadata": {},
   "outputs": [],
   "source": [
    "def extraction(image_name = None, image = None):\n",
    "    '''\n",
    "    Start of extraction pipeline, from image name to printed contours and \n",
    "    an image representation of the arrows identified. Will print all necessary \n",
    "    information for the user and will allow the user to see how each image is working\n",
    "    \n",
    "    Steps to Pipeline:\n",
    "    (1) Extract the arrow contours using find_arrow()\n",
    "    (2) Find the Averages of the points on the arrow\n",
    "    (3) Find the centroid (absolute middle) of the arrow\n",
    "        - (2) and (3) will be used to determine direction, \n",
    "          whichever side the average is away from the centroid is the direction\n",
    "          of the arrow pointing\n",
    "    (4) Find the orientation of the arrow (Horizontal or Vertical)\n",
    "    (5) Print all the information \n",
    "    (6) Show the image with the arrow contours \n",
    "    (7) Return the list of contours \n",
    "    \n",
    "    @PARAM:\n",
    "        - image_name: name of the image we want to run the pipeline on\n",
    "        - image: Could also supply just loaded Cv2 image, but then dont insert\n",
    "                the name of the image\n",
    "                \n",
    "        Examples:\n",
    "        \n",
    "        - If image is already loaded, use this format:\n",
    "            # Loading Image \n",
    "            image = cv2.imread({whatever directory})\n",
    "            extraction(image = diff_image)\n",
    "            \n",
    "            Note: This is preferred method, allows for image to be stored in \n",
    "            other directories and makes bulk detection easier\n",
    "            \n",
    "        - If you want to use the loading in the function, use this format:\n",
    "            extraction(image_name = 'image.png')\n",
    "            \n",
    "            Note: This format is not as effective, it is better to load the images ahead \n",
    "            of time especially if doing bulk conversions\n",
    "        \n",
    "    @RETURN:\n",
    "        - 0 if successful, 1 if there is an issue\n",
    "    '''\n",
    "    if image_name != None:\n",
    "        try:\n",
    "            image = cv2.imread(os.path.join(os.getcwd(), image_name))\n",
    "        except error:\n",
    "            print('Image name is not found, change directory or edit name. Function will stop now')\n",
    "            return -1, -1, -1, -1, -1\n",
    "    # Get the arrow contours and then get the necessary information from it\n",
    "    arrow_contours = find_arrows(image)\n",
    "    #If we dont find any arrows, return a message\n",
    "    if len(arrow_contours) == 0:\n",
    "        print(\"No arrows were found in the image\")\n",
    "        io.imshow(image)\n",
    "        return -1, -1, -1, -1, -1\n",
    "    print('Number of Contours: ', len(arrow_contours), '\\n')\n",
    "    averages = arrow_average(arrow_contours)\n",
    "    centroids = arrow_centroid(arrow_contours)\n",
    "    orientation = get_orientation(arrow_contours)\n",
    "    direction = get_direction(arrow_contours)\n",
    "#     for contour in range(len(arrow_contours)):\n",
    "#         print('Arrow Contour ' + str(contour + 1) + ': \\n \\n', arrow_contours[contour], '\\n\\n')\n",
    "    \n",
    "    print('Arrow Average Points:', averages, '\\n')\n",
    "    print('Arrow Centroid Points: ', centroids, '\\n')\n",
    "    for i in range(len(orientation)):\n",
    "        print('Arrow ' + str(i + 1) + ' Orientation: ', orientation[i])\n",
    "    print()\n",
    "    print(direction)\n",
    "    print()\n",
    "    io.imshow(show_contours(np.copy(image), arrow_contours))\n",
    "    return arrow_contours\n",
    "#, averages, centroids, orientation, direction"
   ]
  },
  {
   "cell_type": "code",
   "execution_count": 8,
   "metadata": {
    "tags": []
   },
   "outputs": [],
   "source": [
    "def load_training_set():  \n",
    "    arrow_train = os.path.join(os.getcwd(), 'training_sets','new_split_training2','arrows_train')\n",
    "    notArrow_train = os.path.join(os.getcwd(), 'training_sets','new_split_training2','not_arrows_train')\n",
    "    list_arrows = sorted(os.listdir(arrow_train))[2:]\n",
    "    list_nots = sorted(os.listdir(notArrow_train))[2:]\n",
    "\n",
    "    training_set = []\n",
    "    training_labels = []\n",
    "\n",
    "    for i, arrow in enumerate(list_arrows):\n",
    "        if arrow != '.ipynb_checkpoints':\n",
    "            try:\n",
    "                image = io.imread(os.path.join(arrow_train, arrow))\n",
    "            except:\n",
    "                print(arrow)\n",
    "                continue\n",
    "            if type(image) == type(None) or image.shape != (500, 500):\n",
    "                print(arrow)\n",
    "            training_set.append(image)\n",
    "            training_labels.append(1)\n",
    "\n",
    "    for j, nots in enumerate(list_nots):\n",
    "        if arrow != '.ipynb_checkpoints':\n",
    "            try:\n",
    "                image = io.imread(os.path.join(notArrow_train, nots))\n",
    "            except:\n",
    "                print(nots)\n",
    "                continue\n",
    "            if type(image) == type(None):\n",
    "                print('NoneType: ' + arrow)\n",
    "            elif image.shape != (500, 500):\n",
    "                print(nots + str(image.shape))\n",
    "            training_set.append(image)\n",
    "            training_labels.append(0)\n",
    "\n",
    "    training_set = np.array(training_set)\n",
    "    training_set = training_set / 255.0\n",
    "    training_set = training_set.reshape(len(training_set), 500, 500, 1)\n",
    "    training_labels = np.array(training_labels)\n",
    "    print(training_set.shape)\n",
    "    print(training_labels.shape)\n",
    "    return training_set, training_labels"
   ]
  },
  {
   "cell_type": "code",
   "execution_count": 9,
   "metadata": {
    "tags": []
   },
   "outputs": [],
   "source": [
    "def load_testing_set():\n",
    "    # Load the directories with the arrows and not arrows\n",
    "    arrow_test = os.path.join(os.getcwd(), 'training_sets','new_split_training2','arrows_test')\n",
    "    notArrow_test= os.path.join(os.getcwd(), 'training_sets','new_split_training2','not_arrows_test')\n",
    "    test_arrows = sorted(os.listdir(arrow_test))[1:]\n",
    "    test_nots = sorted(os.listdir(notArrow_test))[1:]\n",
    "\n",
    "    testing_set = []\n",
    "    testing_labels = []\n",
    "    # Load arrows to testing set\n",
    "    for i, arrow in enumerate(test_arrows):\n",
    "        if arrow != '.ipynb_checkpoints':\n",
    "            image = io.imread(os.path.join(arrow_test, arrow))\n",
    "            if type(image) == type(None) or image.shape != (500, 500):\n",
    "                print(arrow)\n",
    "            testing_set.append(image)\n",
    "            testing_labels.append(1)\n",
    "    # Load others to testing set\n",
    "    for j, nots in enumerate(test_nots):\n",
    "        if arrow != '.ipynb_checkpoints':\n",
    "            image = io.imread(os.path.join(notArrow_test, nots))\n",
    "            if type(image) == type(None):\n",
    "                print('NoneType: ' + arrow)\n",
    "            elif image.shape != (500, 500):\n",
    "                print(nots + str(image.shape))\n",
    "            testing_set.append(image)\n",
    "            testing_labels.append(0)\n",
    "    # convert to np.array and process (shape and reduce)\n",
    "    testing_set = np.array(testing_set)\n",
    "    testing_set = testing_set / 255.0\n",
    "    testing_set = testing_set.reshape(len(testing_set), 500, 500, 1)\n",
    "    testing_labels = np.array(testing_labels)\n",
    "    print(testing_set.shape)\n",
    "    print(testing_labels.shape)\n",
    "    return testing_set, testing_labels"
   ]
  },
  {
   "cell_type": "code",
   "execution_count": 10,
   "metadata": {
    "tags": []
   },
   "outputs": [
    {
     "output_type": "stream",
     "name": "stdout",
     "text": "Model: \"sequential_3\"\n_________________________________________________________________\nLayer (type)                 Output Shape              Param #   \n=================================================================\nconv2d_12 (Conv2D)           (None, 498, 498, 16)      160       \n_________________________________________________________________\nmax_pooling2d_12 (MaxPooling (None, 249, 249, 16)      0         \n_________________________________________________________________\ndropout_12 (Dropout)         (None, 249, 249, 16)      0         \n_________________________________________________________________\nconv2d_13 (Conv2D)           (None, 247, 247, 32)      4640      \n_________________________________________________________________\nmax_pooling2d_13 (MaxPooling (None, 123, 123, 32)      0         \n_________________________________________________________________\ndropout_13 (Dropout)         (None, 123, 123, 32)      0         \n_________________________________________________________________\nconv2d_14 (Conv2D)           (None, 121, 121, 32)      9248      \n_________________________________________________________________\nmax_pooling2d_14 (MaxPooling (None, 60, 60, 32)        0         \n_________________________________________________________________\ndropout_14 (Dropout)         (None, 60, 60, 32)        0         \n_________________________________________________________________\nconv2d_15 (Conv2D)           (None, 58, 58, 32)        9248      \n_________________________________________________________________\nmax_pooling2d_15 (MaxPooling (None, 29, 29, 32)        0         \n_________________________________________________________________\ndropout_15 (Dropout)         (None, 29, 29, 32)        0         \n_________________________________________________________________\nconv2d_16 (Conv2D)           (None, 27, 27, 32)        9248      \n_________________________________________________________________\nmax_pooling2d_16 (MaxPooling (None, 13, 13, 32)        0         \n_________________________________________________________________\ndropout_16 (Dropout)         (None, 13, 13, 32)        0         \n_________________________________________________________________\nconv2d_17 (Conv2D)           (None, 11, 11, 32)        9248      \n_________________________________________________________________\nmax_pooling2d_17 (MaxPooling (None, 5, 5, 32)          0         \n_________________________________________________________________\ndropout_17 (Dropout)         (None, 5, 5, 32)          0         \n_________________________________________________________________\nflatten_2 (Flatten)          (None, 800)               0         \n_________________________________________________________________\ndense_4 (Dense)              (None, 256)               205056    \n_________________________________________________________________\ndense_5 (Dense)              (None, 1)                 257       \n=================================================================\nTotal params: 247,105\nTrainable params: 247,105\nNon-trainable params: 0\n_________________________________________________________________\n"
    }
   ],
   "source": [
    "model = keras.models.load_model(os.path.join(os.getcwd(), 'models', 'notOverfittedModel2'))\n",
    "\n",
    "# trainX, trainY = load_training_set()\n",
    "# testX, testY = load_testing_set()\n",
    "\n",
    "model.summary()"
   ]
  },
  {
   "cell_type": "code",
   "execution_count": 305,
   "metadata": {
    "tags": []
   },
   "outputs": [
    {
     "name": "stdout",
     "output_type": "stream",
     "text": [
      "Epoch 1/15\n",
      "288/288 [==============================] - 905s 3s/step - loss: 0.4879 - accuracy: 0.8222 - val_loss: 0.4575 - val_accuracy: 0.8441\n",
      "Epoch 2/15\n",
      "288/288 [==============================] - 891s 3s/step - loss: 0.4512 - accuracy: 0.8373 - val_loss: 0.7996 - val_accuracy: 0.7215\n",
      "Epoch 3/15\n",
      "288/288 [==============================] - 893s 3s/step - loss: 0.4332 - accuracy: 0.8400 - val_loss: 0.6194 - val_accuracy: 0.6502\n",
      "Epoch 4/15\n",
      "288/288 [==============================] - 890s 3s/step - loss: 0.4045 - accuracy: 0.8576 - val_loss: 0.5446 - val_accuracy: 0.8494\n",
      "Epoch 5/15\n",
      "288/288 [==============================] - 891s 3s/step - loss: 0.3656 - accuracy: 0.8795 - val_loss: 0.3417 - val_accuracy: 0.8941\n",
      "Epoch 6/15\n",
      "288/288 [==============================] - 894s 3s/step - loss: 0.3404 - accuracy: 0.8939 - val_loss: 0.3329 - val_accuracy: 0.9007\n",
      "Epoch 7/15\n",
      "288/288 [==============================] - 894s 3s/step - loss: 0.3253 - accuracy: 0.8988 - val_loss: 0.3166 - val_accuracy: 0.8987\n",
      "Epoch 8/15\n",
      "288/288 [==============================] - 894s 3s/step - loss: 0.3149 - accuracy: 0.9043 - val_loss: 0.2998 - val_accuracy: 0.9167\n",
      "Epoch 9/15\n",
      "288/288 [==============================] - 895s 3s/step - loss: 0.3111 - accuracy: 0.9060 - val_loss: 0.3394 - val_accuracy: 0.8861\n",
      "Epoch 10/15\n",
      "288/288 [==============================] - 892s 3s/step - loss: 0.3048 - accuracy: 0.9099 - val_loss: 0.3434 - val_accuracy: 0.8894\n",
      "Epoch 11/15\n",
      "288/288 [==============================] - 897s 3s/step - loss: 0.2996 - accuracy: 0.9127 - val_loss: 0.3053 - val_accuracy: 0.9014\n",
      "Epoch 12/15\n",
      "288/288 [==============================] - 895s 3s/step - loss: 0.3010 - accuracy: 0.9124 - val_loss: 0.3543 - val_accuracy: 0.9081\n",
      "Epoch 13/15\n",
      "288/288 [==============================] - 892s 3s/step - loss: 0.2978 - accuracy: 0.9094 - val_loss: 0.2837 - val_accuracy: 0.9227\n",
      "Epoch 14/15\n",
      "288/288 [==============================] - 893s 3s/step - loss: 0.2952 - accuracy: 0.9155 - val_loss: 0.3125 - val_accuracy: 0.9034\n",
      "Epoch 15/15\n",
      "288/288 [==============================] - 895s 3s/step - loss: 0.2850 - accuracy: 0.9202 - val_loss: 0.2872 - val_accuracy: 0.9147\n"
     ]
    }
   ],
   "source": [
    "history = model.fit(trainX, trainY, epochs = 15, validation_data=(testX, testY), verbose=1)"
   ]
  },
  {
   "cell_type": "code",
   "execution_count": 306,
   "metadata": {},
   "outputs": [
    {
     "data": {
      "image/png": "[encoded data removed]",
      "text/plain": [
       "<Figure size 432x288 with 2 Axes>"
      ]
     },
     "metadata": {
      "needs_background": "light"
     },
     "output_type": "display_data"
    }
   ],
   "source": [
    "summarize_diagnostics(history)"
   ]
  },
  {
   "cell_type": "code",
   "execution_count": 307,
   "metadata": {
    "tags": []
   },
   "outputs": [
    {
     "name": "stdout",
     "output_type": "stream",
     "text": [
      "WARNING:tensorflow:From /Users/aryamevada/anaconda3/lib/python3.7/site-packages/tensorflow/python/ops/resource_variable_ops.py:1817: calling BaseResourceVariable.__init__ (from tensorflow.python.ops.resource_variable_ops) with constraint is deprecated and will be removed in a future version.\n",
      "Instructions for updating:\n",
      "If using Keras pass *_constraint arguments to layers.\n",
      "INFO:tensorflow:Assets written to: notOverfittedModel2/assets\n"
     ]
    }
   ],
   "source": [
    "model.save('notOverfittedModel2')"
   ]
  },
  {
   "cell_type": "code",
   "execution_count": 195,
   "metadata": {},
   "outputs": [],
   "source": [
    "new_test = []\n",
    "new_labels = []\n",
    "directory = os.path.join(os.getcwd(), 'new_test')\n",
    "list_dir = sorted(os.listdir(directory))\n",
    "for i, img in enumerate(list_dir):\n",
    "    image = io.imread(os.path.join(directory, img))\n",
    "    new_test.append(image)\n",
    "    if i in [27, 82, 111, 247, 310, 379, 438, 462, 467, 473, 485, 496, 504, 510, 515, 565, 634, 694, 833, 946]:\n",
    "        new_labels.append(1)\n",
    "    else:\n",
    "        new_labels.append(0)\n",
    "new_test = np.array(new_test)\n",
    "new_test = new_test / 255.0\n",
    "new_test = new_test.reshape(len(new_test), 500, 500, 1)\n",
    "new_labels = np.array(new_labels)"
   ]
  },
  {
   "cell_type": "code",
   "execution_count": 93,
   "metadata": {},
   "outputs": [],
   "source": [
    "def pipeline(image, model):\n",
    "    \n",
    "    image = segment_image(image)\n",
    "    image = image.astype(float)\n",
    "    print(image.shape)\n",
    "    cnts1 = find_contours(image, 0)\n",
    "    print(len(cnts1))\n",
    "    if len(cnts1) > 300:\n",
    "        return -1\n",
    "    #show_contours(image, cnts1, num = -1)\n",
    "    \n",
    "    try:\n",
    "        os.makedirs('Images_Cache')\n",
    "    except FileExistsError:\n",
    "        for item in os.listdir('Images_Cache'):\n",
    "            os.remove(os.path.join(os.getcwd(), 'Images_Cache', item))\n",
    "        os.rmdir(\"Images_Cache\")\n",
    "        os.makedirs('Images_Cache')\n",
    "\n",
    "    cache_dir = os.path.join(os.getcwd(), 'Images_Cache')\n",
    "\n",
    "    for i, cnt in enumerate(cnts1):\n",
    "        padded = pad_image(cnts1, i)\n",
    "        padded = segment_image(padded)\n",
    "        io.imsave(os.path.join(cache_dir, 'testcon' + str(i).zfill(3) + '.png'), padded)\n",
    "        \n",
    "    cache = sorted(os.listdir(cache_dir))\n",
    "    padded_images = []\n",
    "    for item in cache:\n",
    "        item_path = os.path.join(cache_dir, item)\n",
    "        read_image = io.imread(item_path)\n",
    "        padded_images.append(read_image)\n",
    "        #os.remove(item_path)\n",
    "    # Remove cache \n",
    "    #os.rmdir(\"Images_Cache\")\n",
    "    padded_images = np.array(padded_images)\n",
    "    padded_images = padded_images / 255.0\n",
    "    padded_images = padded_images.reshape(padded_images.shape[0], 500, 500, 1)\n",
    "    results = model.predict(padded_images)\n",
    "    \n",
    "    final_contours = []\n",
    "    conf = []\n",
    "    for contour in range(len(results)):\n",
    "        if results[contour] > 0.5:\n",
    "            final_contours.append(contour)\n",
    "            conf.append(results[contour])\n",
    "    print()\n",
    "    print(\"Final Contours Index: \", final_contours)\n",
    "    print()\n",
    "    for i, result in enumerate(final_contours):\n",
    "        print(\"Element \" + str(result) + \": \" + str(results[result] * 100))\n",
    "#    print(\"Confidence: \", conf)\n",
    "    print()\n",
    "    # for i, result in enumerate(results):\n",
    "    #     print(\"Element \" + str(i) + \": \" + str(result * 100))\n",
    "    return cnts1"
   ]
  },
  {
   "cell_type": "code",
   "execution_count": 94,
   "metadata": {},
   "outputs": [],
   "source": [
    "counter = 23"
   ]
  },
  {
   "cell_type": "code",
   "execution_count": 337,
   "metadata": {
    "tags": []
   },
   "outputs": [
    {
     "output_type": "stream",
     "name": "stderr",
     "text": "Lossy conversion from int64 to uint8. Range [0, 1]. Convert image to uint8 prior to saving to suppress this warning.\nLossy conversion from int64 to uint8. Range [0, 1]. Convert image to uint8 prior to saving to suppress this warning.\n149\n(171, 560)\n21\nLossy conversion from int64 to uint8. Range [0, 1]. Convert image to uint8 prior to saving to suppress this warning.\nLossy conversion from int64 to uint8. Range [0, 1]. Convert image to uint8 prior to saving to suppress this warning.\nLossy conversion from int64 to uint8. Range [0, 1]. Convert image to uint8 prior to saving to suppress this warning.\nLossy conversion from int64 to uint8. Range [0, 1]. Convert image to uint8 prior to saving to suppress this warning.\nLossy conversion from int64 to uint8. Range [0, 1]. Convert image to uint8 prior to saving to suppress this warning.\nLossy conversion from int64 to uint8. Range [0, 1]. Convert image to uint8 prior to saving to suppress this warning.\nLossy conversion from int64 to uint8. Range [0, 1]. Convert image to uint8 prior to saving to suppress this warning.\nLossy conversion from int64 to uint8. Range [0, 1]. Convert image to uint8 prior to saving to suppress this warning.\nLossy conversion from int64 to uint8. Range [0, 1]. Convert image to uint8 prior to saving to suppress this warning.\nLossy conversion from int64 to uint8. Range [0, 1]. Convert image to uint8 prior to saving to suppress this warning.\nLossy conversion from int64 to uint8. Range [0, 1]. Convert image to uint8 prior to saving to suppress this warning.\nLossy conversion from int64 to uint8. Range [0, 1]. Convert image to uint8 prior to saving to suppress this warning.\nLossy conversion from int64 to uint8. Range [0, 1]. Convert image to uint8 prior to saving to suppress this warning.\nLossy conversion from int64 to uint8. Range [0, 1]. Convert image to uint8 prior to saving to suppress this warning.\nLossy conversion from int64 to uint8. Range [0, 1]. Convert image to uint8 prior to saving to suppress this warning.\nLossy conversion from int64 to uint8. Range [0, 1]. Convert image to uint8 prior to saving to suppress this warning.\nLossy conversion from int64 to uint8. Range [0, 1]. Convert image to uint8 prior to saving to suppress this warning.\nLossy conversion from int64 to uint8. Range [0, 1]. Convert image to uint8 prior to saving to suppress this warning.\nLossy conversion from int64 to uint8. Range [0, 1]. Convert image to uint8 prior to saving to suppress this warning.\n\nFinal Contours Index:  [18]\n\nElement 18: [71.446365]\n\n"
    }
   ],
   "source": [
    "reactions = os.path.join(os.getcwd(), 'test_reaction_ims')\n",
    "list_reactions = sorted(os.listdir(reactions))[1:]\n",
    "print(len(list_reactions))\n",
    "image = io.imread(os.path.join(reactions, list_reactions[121]))\n",
    "seg_im = segment_image(image)\n",
    "cnts = pipeline(image, model)"
   ]
  },
  {
   "cell_type": "code",
   "execution_count": 338,
   "metadata": {},
   "outputs": [
    {
     "output_type": "display_data",
     "data": {
      "text/plain": "<Figure size 432x288 with 1 Axes>",
      "image/svg+xml": "<?xml version=\"1.0\" encoding=\"utf-8\" standalone=\"no\"?>\n<!DOCTYPE svg PUBLIC \"-//W3C//DTD SVG 1.1//EN\"\n  \"http://www.w3.org/Graphics/SVG/1.1/DTD/svg11.dtd\">\n<!-- Created with matplotlib (https://matplotlib.org/) -->\n<svg height=\"120.133571pt\" version=\"1.1\" viewBox=\"0 0 352.7 120.133571\" width=\"352.7pt\" xmlns=\"http://www.w3.org/2000/svg\" xmlns:xlink=\"http://www.w3.org/1999/xlink\">\n <metadata>\n  <rdf:RDF xmlns:cc=\"http://creativecommons.org/ns#\" xmlns:dc=\"http://purl.org/dc/elements/1.1/\" xmlns:rdf=\"http://www.w3.org/1999/02/22-rdf-syntax-ns#\">\n   <cc:Work>\n    <dc:type rdf:resource=\"http://purl.org/dc/dcmitype/StillImage\"/>\n    <dc:date>2020-09-03T17:29:38.229969</dc:date>\n    <dc:format>image/svg+xml</dc:format>\n    <dc:creator>\n     <cc:Agent>\n      <dc:title>Matplotlib v3.3.1, https://matplotlib.org/</dc:title>\n     </cc:Agent>\n    </dc:creator>\n   </cc:Work>\n  </rdf:RDF>\n </metadata>\n <defs>\n  <style type=\"text/css\">*{stroke-linecap:butt;stroke-linejoin:round;}</style>\n </defs>\n <g id=\"figure_1\">\n  <g id=\"patch_1\">\n   <path d=\"M 0 120.133571 \nL 352.7 120.133571 \nL 352.7 0 \nL 0 0 \nz\n\" style=\"fill:none;\"/>\n  </g>\n  <g id=\"axes_1\">\n   <g id=\"patch_2\">\n    <path d=\"M 10.7 109.433571 \nL 345.5 109.433571 \nL 345.5 7.2 \nL 10.7 7.2 \nz\n\" style=\"fill:#ffffff;\"/>\n   </g>\n   <g clip-path=\"url(#p7aab24f58b)\">\n    <image height=\"103\" id=\"imagec109a29f9d\" transform=\"scale(1 -1)translate(0 -103)\" width=\"335\" x=\"10.7\" xlink:href=\"data:image/png;base64,\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\" y=\"-6.433571\"/>\n   </g>\n   <g id=\"matplotlib.axis_1\"/>\n   <g id=\"matplotlib.axis_2\"/>\n   <g id=\"line2d_1\">\n    <path clip-path=\"url(#p7aab24f58b)\" d=\"M 244.761071 101.3625 \nL 244.163214 101.3625 \nL 243.565357 100.764643 \nL 243.565357 100.166786 \nL 244.163214 99.568929 \nL 244.163214 94.786071 \nL 244.761071 94.188214 \nL 245.358929 94.786071 \nL 245.956786 94.786071 \nL 246.554643 94.188214 \nL 246.554643 93.590357 \nL 247.1525 92.9925 \nL 247.1525 92.394643 \nL 248.348214 91.198929 \nL 248.348214 90.601071 \nL 251.935357 87.013929 \nL 252.533214 87.013929 \nL 254.326786 85.220357 \nL 254.924643 85.220357 \nL 255.5225 84.6225 \nL 256.120357 84.6225 \nL 256.718214 84.024643 \nL 257.316071 84.024643 \nL 257.913929 83.426786 \nL 258.511786 83.426786 \nL 259.109643 82.828929 \nL 260.305357 82.828929 \nL 260.903214 82.231071 \nL 262.696786 82.231071 \nL 263.294643 81.633214 \nL 271.664643 81.633214 \nL 272.2625 82.231071 \nL 274.056071 82.231071 \nL 274.653929 82.828929 \nL 275.849643 82.828929 \nL 276.4475 83.426786 \nL 277.643214 83.426786 \nL 278.838929 84.6225 \nL 279.436786 84.6225 \nL 280.034643 85.220357 \nL 281.230357 85.220357 \nL 281.828214 84.6225 \nL 283.023929 85.818214 \nL 283.023929 86.416071 \nL 284.8175 88.209643 \nL 284.8175 88.8075 \nL 285.415357 89.405357 \nL 285.415357 90.003214 \nL 284.8175 90.601071 \nL 284.219643 90.003214 \nL 283.621786 90.003214 \nL 283.023929 89.405357 \nL 282.426071 89.405357 \nL 281.828214 88.8075 \nL 281.230357 88.8075 \nL 280.6325 88.209643 \nL 280.034643 88.209643 \nL 279.436786 87.611786 \nL 279.436786 87.013929 \nL 278.241071 85.818214 \nL 277.643214 85.818214 \nL 277.045357 85.220357 \nL 276.4475 85.220357 \nL 275.849643 84.6225 \nL 274.653929 84.6225 \nL 274.056071 84.024643 \nL 272.2625 84.024643 \nL 271.664643 83.426786 \nL 263.294643 83.426786 \nL 262.696786 84.024643 \nL 260.903214 84.024643 \nL 260.305357 84.6225 \nL 259.109643 84.6225 \nL 258.511786 85.220357 \nL 257.913929 85.220357 \nL 257.316071 85.818214 \nL 256.718214 85.818214 \nL 256.120357 86.416071 \nL 255.5225 86.416071 \nL 253.728929 88.209643 \nL 253.131071 88.209643 \nL 249.543929 91.796786 \nL 249.543929 92.394643 \nL 248.348214 93.590357 \nL 248.348214 94.188214 \nL 247.750357 94.786071 \nL 247.750357 95.383929 \nL 248.348214 95.981786 \nL 247.750357 96.579643 \nL 247.750357 97.1775 \nL 246.554643 98.373214 \nL 246.554643 98.971071 \nL 245.358929 100.166786 \nL 245.358929 100.764643 \nL 244.761071 101.3625 \nL 244.761071 101.3625 \n\" style=\"fill:none;stroke:#1f77b4;stroke-linecap:square;stroke-width:3;\"/>\n   </g>\n   <g id=\"patch_3\">\n    <path d=\"M 10.7 109.433571 \nL 10.7 7.2 \n\" style=\"fill:none;stroke:#000000;stroke-linecap:square;stroke-linejoin:miter;stroke-width:0.8;\"/>\n   </g>\n   <g id=\"patch_4\">\n    <path d=\"M 345.5 109.433571 \nL 345.5 7.2 \n\" style=\"fill:none;stroke:#000000;stroke-linecap:square;stroke-linejoin:miter;stroke-width:0.8;\"/>\n   </g>\n   <g id=\"patch_5\">\n    <path d=\"M 10.7 109.433571 \nL 345.5 109.433571 \n\" style=\"fill:none;stroke:#000000;stroke-linecap:square;stroke-linejoin:miter;stroke-width:0.8;\"/>\n   </g>\n   <g id=\"patch_6\">\n    <path d=\"M 10.7 7.2 \nL 345.5 7.2 \n\" style=\"fill:none;stroke:#000000;stroke-linecap:square;stroke-linejoin:miter;stroke-width:0.8;\"/>\n   </g>\n  </g>\n </g>\n <defs>\n  <clipPath id=\"p7aab24f58b\">\n   <rect height=\"102.233571\" width=\"334.8\" x=\"10.7\" y=\"7.2\"/>\n  </clipPath>\n </defs>\n</svg>\n",
      "image/png": "[encoded data removed]"
     },
     "metadata": {}
    }
   ],
   "source": [
    "# [15, 16, 17, 32, 37, 38, 59, 60, 61]\n",
    "show_contours(seg_im, cnts, 18)"
   ]
  },
  {
   "cell_type": "code",
   "execution_count": 11,
   "metadata": {
    "tags": []
   },
   "outputs": [
    {
     "name": "stdout",
     "output_type": "stream",
     "text": [
      "51\n"
     ]
    },
    {
     "data": {
      "image/png": "[encoded data removed]",
      "text/plain": [
       "<Figure size 432x288 with 1 Axes>"
      ]
     },
     "metadata": {},
     "output_type": "display_data"
    }
   ],
   "source": [
    "test = os.path.join(os.getcwd(), 'arrows1.jpg')\n",
    "image = io.imread(os.path.join(test))\n",
    "image = segment_image(image)\n",
    "image = image.astype(float)\n",
    "cnts1 = find_contours(image, 0)\n",
    "print(len(cnts1))\n",
    "show_contours(image, cnts1, num = -1)"
   ]
  },
  {
   "cell_type": "code",
   "execution_count": 309,
   "metadata": {},
   "outputs": [
    {
     "data": {
      "text/plain": [
       "(51, 500, 500, 1)"
      ]
     },
     "execution_count": 309,
     "metadata": {},
     "output_type": "execute_result"
    }
   ],
   "source": [
    "path1 = os.path.join(os.getcwd(), 'test_2')\n",
    "path_list = sorted(os.listdir(path1))\n",
    "arrow_list = []\n",
    "label_list = []\n",
    "for i, img in enumerate(path_list):\n",
    "    image = io.imread(os.path.join(path1, img))\n",
    "    arrow_list.append(image)\n",
    "    if i in [0, 13, 15, 37]:\n",
    "        label_list.append(0)\n",
    "    else:\n",
    "        label_list.append(1)\n",
    "arrow_list = np.array(arrow_list) / 255.0\n",
    "arrow_list = arrow_list.reshape(len(arrow_list), 500, 500, 1)\n",
    "label_list = np.array(label_list)\n",
    "arrow_list.shape"
   ]
  },
  {
   "cell_type": "code",
   "execution_count": 196,
   "metadata": {
    "tags": []
   },
   "outputs": [
    {
     "output_type": "stream",
     "name": "stdout",
     "text": "31/31 [==============================] - 21s 671ms/step - loss: 0.2717 - accuracy: 0.9592\n"
    }
   ],
   "source": [
    "loss, score = model.evaluate(new_test, new_labels, verbose = 1)"
   ]
  },
  {
   "cell_type": "code",
   "execution_count": 197,
   "metadata": {
    "tags": []
   },
   "outputs": [
    {
     "output_type": "stream",
     "name": "stdout",
     "text": "Loss: 0.2716541588306427\n\nAccuracy: 0.9592252969741821\n"
    }
   ],
   "source": [
    "print(\"Loss: \" + str(loss))\n",
    "print()\n",
    "print(\"Accuracy: \" + str(score))"
   ]
  },
  {
   "cell_type": "code",
   "execution_count": 155,
   "metadata": {},
   "outputs": [],
   "source": [
    "test = model.predict(arrow_list)\n",
    "target_names = ['Not Arrow', 'Is Arrow']"
   ]
  },
  {
   "cell_type": "code",
   "execution_count": null,
   "metadata": {},
   "outputs": [],
   "source": []
  }
 ],
 "metadata": {
  "kernelspec": {
   "display_name": "Python 3",
   "language": "python",
   "name": "python3"
  },
  "language_info": {
   "codemirror_mode": {
    "name": "ipython",
    "version": 3
   },
   "file_extension": ".py",
   "mimetype": "text/x-python",
   "name": "python",
   "nbconvert_exporter": "python",
   "pygments_lexer": "ipython3",
   "version": "3.7.7-final"
  }
 },
 "nbformat": 4,
 "nbformat_minor": 4
}