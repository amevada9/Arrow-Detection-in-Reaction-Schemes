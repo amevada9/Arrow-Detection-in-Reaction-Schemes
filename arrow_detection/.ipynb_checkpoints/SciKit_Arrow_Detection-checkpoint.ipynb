{
 "cells": [
  {
   "cell_type": "markdown",
   "metadata": {},
   "source": [
    "# Using Scikit-Image to do Arrow Matching"
   ]
  },
  {
   "cell_type": "markdown",
   "metadata": {},
   "source": [
    "## This notebook is working on creating the arrow classifer for the reaction schemes"
   ]
  },
  {
   "cell_type": "code",
   "execution_count": 1,
   "metadata": {},
   "outputs": [],
   "source": [
    "import os\n",
    "import cv2\n",
    "import math \n",
    "import imutils\n",
    "import json\n",
    "import copy\n",
    "import time\n",
    "import logging\n",
    "\n",
    "import scipy\n",
    "import numpy as np\n",
    "from scipy import ndimage as ndi\n",
    "import matplotlib.pyplot as plt\n",
    "import pandas as pd\n",
    "\n",
    "from tensorflow import keras\n",
    "import skimage\n",
    "from skimage import io\n",
    "\n",
    "from arrow import *\n",
    "from scikit_arrow_utils import arrow_average, arrow_centroid, line_mag, get_contour_height, get_contour_length, get_orientation\n",
    "from image_utils import binary_close, binarize, binary_floodfill, skeletonize, pixel_ratio, skeletonize_area_ratio\n",
    "from scikit_scripts import pad_image, segment_image, show_contours, get_image_contours\n",
    "from detection import get_direction, pipeline"
   ]
  },
  {
   "cell_type": "code",
   "execution_count": 3,
   "metadata": {
    "tags": []
   },
   "outputs": [
    {
     "name": "stdout",
     "output_type": "stream",
     "text": [
      "Model: \"sequential_3\"\n",
      "_________________________________________________________________\n",
      "Layer (type)                 Output Shape              Param #   \n",
      "=================================================================\n",
      "conv2d_12 (Conv2D)           (None, 498, 498, 16)      160       \n",
      "_________________________________________________________________\n",
      "max_pooling2d_12 (MaxPooling (None, 249, 249, 16)      0         \n",
      "_________________________________________________________________\n",
      "dropout_12 (Dropout)         (None, 249, 249, 16)      0         \n",
      "_________________________________________________________________\n",
      "conv2d_13 (Conv2D)           (None, 247, 247, 32)      4640      \n",
      "_________________________________________________________________\n",
      "max_pooling2d_13 (MaxPooling (None, 123, 123, 32)      0         \n",
      "_________________________________________________________________\n",
      "dropout_13 (Dropout)         (None, 123, 123, 32)      0         \n",
      "_________________________________________________________________\n",
      "conv2d_14 (Conv2D)           (None, 121, 121, 32)      9248      \n",
      "_________________________________________________________________\n",
      "max_pooling2d_14 (MaxPooling (None, 60, 60, 32)        0         \n",
      "_________________________________________________________________\n",
      "dropout_14 (Dropout)         (None, 60, 60, 32)        0         \n",
      "_________________________________________________________________\n",
      "conv2d_15 (Conv2D)           (None, 58, 58, 32)        9248      \n",
      "_________________________________________________________________\n",
      "max_pooling2d_15 (MaxPooling (None, 29, 29, 32)        0         \n",
      "_________________________________________________________________\n",
      "dropout_15 (Dropout)         (None, 29, 29, 32)        0         \n",
      "_________________________________________________________________\n",
      "conv2d_16 (Conv2D)           (None, 27, 27, 32)        9248      \n",
      "_________________________________________________________________\n",
      "max_pooling2d_16 (MaxPooling (None, 13, 13, 32)        0         \n",
      "_________________________________________________________________\n",
      "dropout_16 (Dropout)         (None, 13, 13, 32)        0         \n",
      "_________________________________________________________________\n",
      "conv2d_17 (Conv2D)           (None, 11, 11, 32)        9248      \n",
      "_________________________________________________________________\n",
      "max_pooling2d_17 (MaxPooling (None, 5, 5, 32)          0         \n",
      "_________________________________________________________________\n",
      "dropout_17 (Dropout)         (None, 5, 5, 32)          0         \n",
      "_________________________________________________________________\n",
      "flatten_2 (Flatten)          (None, 800)               0         \n",
      "_________________________________________________________________\n",
      "dense_4 (Dense)              (None, 256)               205056    \n",
      "_________________________________________________________________\n",
      "dense_5 (Dense)              (None, 1)                 257       \n",
      "=================================================================\n",
      "Total params: 247,105\n",
      "Trainable params: 247,105\n",
      "Non-trainable params: 0\n",
      "_________________________________________________________________\n"
     ]
    }
   ],
   "source": [
    "model = keras.models.load_model(os.path.join(os.getcwd(), 'models', 'notOverfittedModel2'))\n",
    "\n",
    "# trainX, trainY = load_training_set()\n",
    "# # testX, testY = load_testing_set()\n",
    "\n",
    "model.summary()"
   ]
  },
  {
   "cell_type": "code",
   "execution_count": 8,
   "metadata": {},
   "outputs": [],
   "source": [
    "def process_paper(model, path_to_images, document_name, save_in_json = True, verbose=1):\n",
    "    '''\n",
    "    Add docstring here\n",
    "    '''\n",
    "    reactions = sorted(os.listdir(os.path.join(os.getcwd(), path_to_images)))[1:]\n",
    "    arrows = {}\n",
    "    count = 0\n",
    "    for i, image_name in enumerate(reactions):\n",
    "        image = io.imread(os.path.join(path_to_images, image_name))\n",
    "        try:\n",
    "            info, cnts, averages, directions = pipeline(image,  image_name, count, model=model,verbose=verbose)\n",
    "            count += 1\n",
    "        except:\n",
    "            print(image_name + ' had an Error')\n",
    "            info = {}\n",
    "            info['Status'] = 'Error Thrown'\n",
    "            continue\n",
    "        arrows[image_name] = info\n",
    "    if save_in_json:\n",
    "        with open(os.path.join(os.getcwd(), 'results', document_name + '_results.json'), 'w') as f:\n",
    "            json.dump(arrows, f)\n",
    "    print(str(count) + ' images have been processed!')\n",
    "    return arrows"
   ]
  },
  {
   "cell_type": "code",
   "execution_count": 5,
   "metadata": {},
   "outputs": [
    {
     "name": "stdout",
     "output_type": "stream",
     "text": [
      "Label 0 CroppedPage13-1.png 1 Arrows Extracted! Time Elapsed: 4.69s\n",
      "Label 1 CroppedPage15-1.png 1 Arrows Extracted! Time Elapsed: 5.31s\n",
      "Label 2 CroppedPage18-1.png 1 Arrows Extracted! Time Elapsed: 8.37s\n",
      "Label 3 CroppedPage19-1.png 1 Arrows Extracted! Time Elapsed: 3.42s\n",
      "Label 4 CroppedPage20-1.png 1 Arrows Extracted! Time Elapsed: 4.71s\n",
      "Label 5 CroppedPage21-1.png 1 Arrows Extracted! Time Elapsed: 3.50s\n",
      "Label 6 CroppedPage3-2.png 1 Arrows Extracted! Time Elapsed: 0.31s\n",
      "Label 7 CroppedPage33-1.png 1 Arrows Extracted! Time Elapsed: 0.36s\n",
      "Label 8 CroppedPage33-2.png 1 Arrows Extracted! Time Elapsed: 0.51s\n",
      "Label 9 CroppedPage34-1.png 1 Arrows Extracted! Time Elapsed: 1.09s\n",
      "Label 10 CroppedPage35-1.png 1 Arrows Extracted! Time Elapsed: 0.56s\n",
      "Label 11 CroppedPage36-1.png 1 Arrows Extracted! Time Elapsed: 0.50s\n",
      "Label 12 CroppedPage37-1.png 1 Arrows Extracted! Time Elapsed: 0.43s\n",
      "Label 13 CroppedPage4-1.png 1 Arrows Extracted! Time Elapsed: 0.24s\n",
      "Label 14 CroppedPage4-2 2.png 1 Arrows Extracted! Time Elapsed: 7.55s\n",
      "Label 15 CroppedPage4-2.png 1 Arrows Extracted! Time Elapsed: 0.32s\n",
      "Label 16 CroppedPage5-2.png: No Arrows were Identified\n",
      "Label 16 CroppedPage5-2.png: No Arrows were Identified\n",
      "Label 17 CroppedPage6-1 2.png 1 Arrows Extracted! Time Elapsed: 7.75s\n",
      "Label 18 CroppedPage6-1.png: No Arrows were Identified\n",
      "Label 18 CroppedPage6-1.png: No Arrows were Identified\n",
      "Label 19 CroppedPage7-1 2.png 1 Arrows Extracted! Time Elapsed: 6.70s\n",
      "Label 20 CroppedPage7-1.png: No Arrows were Identified\n",
      "Label 20 CroppedPage7-1.png: No Arrows were Identified\n",
      "Label 21 CroppedPage8-1.png 1 Arrows Extracted! Time Elapsed: 5.80s\n",
      "ja00005a057_si_001Page11-1.png had an Error\n",
      "ja00034a036_si_001Page19-1.png had an Error\n",
      "ja00034a036_si_001Page20-1.png had an Error\n",
      "Label 22 ja00047a079_si_001Page4-3.png: No Arrows were Identified\n",
      "Label 22 ja00047a079_si_001Page4-3.png: No Arrows were Identified\n",
      "Label 23 ja00047a079_si_001Page5-1.png: No Arrows were Identified\n",
      "Label 23 ja00047a079_si_001Page5-1.png: No Arrows were Identified\n",
      "Label 24 ja00087a068_si_001Page4-1.png: No Arrows were Identified\n",
      "Label 24 ja00087a068_si_001Page4-1.png: No Arrows were Identified\n",
      "Label 25 ja00087a068_si_001Page4-2.png: No Arrows were Identified\n",
      "Label 25 ja00087a068_si_001Page4-2.png: No Arrows were Identified\n",
      "Label 26 ja00104a009_si_001Page6-1.png 1 Arrows Extracted! Time Elapsed: 0.55s\n",
      "Label 27 ja00104a009_si_001Page7-1.png 1 Arrows Extracted! Time Elapsed: 0.44s\n",
      "Label 28 ja00104a009_si_001Page8-1.png 1 Arrows Extracted! Time Elapsed: 0.42s\n",
      "ja00147a032_si_001Page12-1.png had an Error\n",
      "Label 29 ja00147a032_si_001Page14-1.png 1 Arrows Extracted! Time Elapsed: 11.18s\n",
      "Label 30 ja00147a032_si_001Page15-1.png 1 Arrows Extracted! Time Elapsed: 0.57s\n",
      "Label 31 ja00254a062_si_001Page4-1.png 1 Arrows Extracted! Time Elapsed: 0.62s\n",
      "Label 32 ja00254a062_si_001Page5-1.png 1 Arrows Extracted! Time Elapsed: 0.39s\n",
      "Label 33 ja00254a062_si_001Page6-1.png 1 Arrows Extracted! Time Elapsed: 0.46s\n",
      "Label 34 ja00254a062_si_001Page7-1.png 1 Arrows Extracted! Time Elapsed: 0.78s\n",
      "Label 35 ja0208153_sPage11-1.png 1 Arrows Extracted! Time Elapsed: 1.56s\n",
      "Label 36 ja0208153_sPage11-2.png 1 Arrows Extracted! Time Elapsed: 0.92s\n",
      "Label 37 ja0208153_sPage13-1.png 1 Arrows Extracted! Time Elapsed: 0.94s\n",
      "Label 38 ja0208153_sPage13-2.png 1 Arrows Extracted! Time Elapsed: 0.85s\n",
      "Label 39 ja026216d_s1Page10-1.png 1 Arrows Extracted! Time Elapsed: 0.74s\n",
      "Label 40 ja026216d_s1Page10-2.png 1 Arrows Extracted! Time Elapsed: 1.02s\n",
      "Label 41 ja026216d_s1Page6-2.png 2 Arrows Extracted! Time Elapsed: 1.39s\n",
      "Label 42 ja026216d_s1Page8-1.png 1 Arrows Extracted! Time Elapsed: 1.22s\n",
      "Label 43 ja026216d_s1Page8-2.png 1 Arrows Extracted! Time Elapsed: 0.94s\n",
      "Label 44 ja026216d_s1Page9-1 2.png 1 Arrows Extracted! Time Elapsed: 0.74s\n",
      "Label 45 ja026216d_s1Page9-1.png 1 Arrows Extracted! Time Elapsed: 0.76s\n",
      "Label 46 ja026216d_s1Page9-2 2.png 1 Arrows Extracted! Time Elapsed: 0.90s\n",
      "Label 47 ja026216d_s1Page9-2.png 1 Arrows Extracted! Time Elapsed: 0.87s\n",
      "Label 48 ja028936q_s1Page11-1.png 1 Arrows Extracted! Time Elapsed: 1.93s\n",
      "Label 49 ja028936q_s1Page12-1.png 1 Arrows Extracted! Time Elapsed: 1.26s\n",
      "Label 50 ja028936q_s1Page14-1.png 1 Arrows Extracted! Time Elapsed: 9.76s\n",
      "Label 51 ja028936q_s1Page15-1.png 1 Arrows Extracted! Time Elapsed: 1.59s\n",
      "Label 52 ja028936q_s1Page5-1.png 1 Arrows Extracted! Time Elapsed: 1.19s\n",
      "Label 53 ja028936q_s1Page6-1.png 1 Arrows Extracted! Time Elapsed: 1.46s\n",
      "Label 54 ja028936q_s1Page7-1.png 2 Arrows Extracted! Time Elapsed: 2.25s\n",
      "Label 55 ja028936q_s1Page9-1.png 1 Arrows Extracted! Time Elapsed: 1.48s\n",
      "Label 56 ja029226n-2_s1Page11-1.png 8 Arrows Extracted! Time Elapsed: 4.88s\n",
      "Label 57 ja029226n-2_s1Page3-1.png 5 Arrows Extracted! Time Elapsed: 3.66s\n",
      "Label 58 ja029226n-2_s1Page5-1 2.png 7 Arrows Extracted! Time Elapsed: 5.58s\n",
      "Label 59 ja029226n-2_s1Page5-1.png 7 Arrows Extracted! Time Elapsed: 5.59s\n",
      "Label 60 ja029226n-2_s1Page8-1 2.png 8 Arrows Extracted! Time Elapsed: 5.42s\n",
      "Label 61 ja029226n-2_s1Page8-1.png 8 Arrows Extracted! Time Elapsed: 5.42s\n",
      "Label 62 ja040213e_sPage15-1.png 1 Arrows Extracted! Time Elapsed: 1.50s\n",
      "Label 63 ja040213e_sPage16-1.png 1 Arrows Extracted! Time Elapsed: 1.84s\n",
      "Label 64 ja040213e_sPage17-1.png 1 Arrows Extracted! Time Elapsed: 2.00s\n",
      "Label 65 ja040213e_sPage4-1.png 1 Arrows Extracted! Time Elapsed: 0.75s\n",
      "Label 66 ja040213e_sPage5-1.png 1 Arrows Extracted! Time Elapsed: 0.39s\n",
      "Label 67 ja040213e_sPage6-1.png 1 Arrows Extracted! Time Elapsed: 1.18s\n",
      "Label 68 ja040213e_sPage7-1.png 1 Arrows Extracted! Time Elapsed: 3.45s\n",
      "Label 69 ja044123lsi20041104_032029Page10-1.png 1 Arrows Extracted! Time Elapsed: 8.60s\n",
      "Label 70 ja044123lsi20041104_032029Page5-1.png 1 Arrows Extracted! Time Elapsed: 11.07s\n",
      "Label 71 ja044123lsi20041104_032029Page6-1.png 1 Arrows Extracted! Time Elapsed: 11.47s\n",
      "Label 72 ja044123lsi20041104_032029Page7-1 2.png 1 Arrows Extracted! Time Elapsed: 12.66s\n",
      "Label 73 ja044123lsi20041104_032029Page7-1.png 1 Arrows Extracted! Time Elapsed: 12.72s\n",
      "Label 74 ja044123lsi20041104_032029Page8-1 2.png 1 Arrows Extracted! Time Elapsed: 9.98s\n",
      "Label 75 ja044123lsi20041104_032029Page8-1.png 1 Arrows Extracted! Time Elapsed: 9.84s\n",
      "Label 76 ja044123lsi20041104_032029Page9-1.png 1 Arrows Extracted! Time Elapsed: 12.44s\n",
      "Label 77 ja049648ssi20040221_060711Page2-1.png 3 Arrows Extracted! Time Elapsed: 1.24s\n",
      "Label 78 ja061970asi20060322_121409Page13-1.png 1 Arrows Extracted! Time Elapsed: 0.65s\n",
      "Label 79 ja061970asi20060322_121409Page13-2.png 1 Arrows Extracted! Time Elapsed: 0.68s\n",
      "Label 80 ja061970asi20060322_121409Page14-1.png 1 Arrows Extracted! Time Elapsed: 0.37s\n",
      "Label 81 ja070071zsi20070213_092247Page16-1.png 2 Arrows Extracted! Time Elapsed: 5.38s\n",
      "Label 82 ja070071zsi20070213_092247Page18-1.png 1 Arrows Extracted! Time Elapsed: 7.28s\n",
      "Label 83 ja070071zsi20070213_092247Page20-1.png 1 Arrows Extracted! Time Elapsed: 4.90s\n",
      "Label 84 ja11331Page10-1.png 1 Arrows Extracted! Time Elapsed: 6.67s\n",
      "Label 85 ja11331Page11-1.png 1 Arrows Extracted! Time Elapsed: 8.95s\n",
      "Label 86 ja11331Page4-2.png 1 Arrows Extracted! Time Elapsed: 7.73s\n",
      "Label 87 ja11331Page6-1.png 1 Arrows Extracted! Time Elapsed: 7.94s\n",
      "Label 88 ja11331Page7-1.png 1 Arrows Extracted! Time Elapsed: 6.89s\n",
      "Label 89 ja11331Page8-1.png 1 Arrows Extracted! Time Elapsed: 5.59s\n",
      "Label 90 ja11331Page9-1.png 1 Arrows Extracted! Time Elapsed: 6.44s\n",
      "Label 91 ja205339p_si_001Page13-1.png 1 Arrows Extracted! Time Elapsed: 3.14s\n",
      "Label 92 ja205339p_si_001Page14-1.png 1 Arrows Extracted! Time Elapsed: 3.23s\n",
      "Label 93 ja205339p_si_001Page14-2.png 1 Arrows Extracted! Time Elapsed: 2.81s\n",
      "Label 94 ja205339p_si_001Page19-1.png 1 Arrows Extracted! Time Elapsed: 2.39s\n",
      "Label 95 ja205339p_si_001Page20-1.png 1 Arrows Extracted! Time Elapsed: 3.30s\n",
      "Label 96 ja205339p_si_001Page22-1.png 1 Arrows Extracted! Time Elapsed: 4.40s\n",
      "Label 97 ja301326k_si_001Page11-1.png 1 Arrows Extracted! Time Elapsed: 2.63s\n",
      "Label 98 ja301326k_si_001Page12-1.png 1 Arrows Extracted! Time Elapsed: 1.83s\n",
      "Label 99 ja301326k_si_001Page14-1.png 1 Arrows Extracted! Time Elapsed: 1.55s\n",
      "Label 100 ja301326k_si_001Page14-2.png 1 Arrows Extracted! Time Elapsed: 2.87s\n",
      "Label 101 ja301326k_si_001Page15-1.png 1 Arrows Extracted! Time Elapsed: 2.15s\n",
      "Label 102 ja308826x_si_001Page10-1.png 1 Arrows Extracted! Time Elapsed: 1.02s\n",
      "Label 103 ja308826x_si_001Page11-1.png 1 Arrows Extracted! Time Elapsed: 0.88s\n",
      "Label 104 ja308826x_si_001Page12-1.png 1 Arrows Extracted! Time Elapsed: 0.74s\n",
      "Label 105 ja308826x_si_001Page13-1.png 1 Arrows Extracted! Time Elapsed: 0.89s\n",
      "Label 106 ja502770n_si_001Page5-1.png 1 Arrows Extracted! Time Elapsed: 2.63s\n",
      "Label 107 ja502770n_si_001Page6-1.png 3 Arrows Extracted! Time Elapsed: 10.63s\n",
      "Label 108 ja502770n_si_001Page8-1.png 2 Arrows Extracted! Time Elapsed: 5.84s\n",
      "Label 109 ja5b01894_si_001Page9-1.png 2 Arrows Extracted! Time Elapsed: 10.22s\n",
      "Label 110 ja5b03531_si_001Page10-1.png 1 Arrows Extracted! Time Elapsed: 1.45s\n",
      "Label 111 ja5b03531_si_001Page8-2.png 1 Arrows Extracted! Time Elapsed: 1.35s\n",
      "Label 112 ja5b04767_si_001Page12-2.png: No Arrows were Identified\n",
      "Label 112 ja5b04767_si_001Page12-2.png: No Arrows were Identified\n",
      "Label 113 ja5b04767_si_001Page12-3.png: No Arrows were Identified\n",
      "Label 113 ja5b04767_si_001Page12-3.png: No Arrows were Identified\n",
      "Label 114 ja5b11438_si_001Page7-1.png 2 Arrows Extracted! Time Elapsed: 1.48s\n",
      "Label 115 ja5b11438_si_001Page9-1.png 2 Arrows Extracted! Time Elapsed: 1.36s\n",
      "Label 116 ja5b11438_si_001Page9-2.png 2 Arrows Extracted! Time Elapsed: 2.17s\n",
      "Label 117 ja6b04029_si_003Page2-1.png: No Arrows were Identified\n",
      "Label 117 ja6b04029_si_003Page2-1.png: No Arrows were Identified\n",
      "Label 118 ja6b04029_si_003Page4-1.png 2 Arrows Extracted! Time Elapsed: 1.69s\n",
      "Label 119 ja6b04029_si_003Page4-2.png 1 Arrows Extracted! Time Elapsed: 2.08s\n",
      "Label 120 ja7b07685_si_001Page10-1.png 1 Arrows Extracted! Time Elapsed: 1.14s\n",
      "Label 121 ja7b07685_si_001Page9-1.png 1 Arrows Extracted! Time Elapsed: 1.32s\n",
      "Label 122 ja7b12570_si_005Page8-1.png 1 Arrows Extracted! Time Elapsed: 1.32s\n",
      "Label 123 ja7b12570_si_005Page9-1.png 1 Arrows Extracted! Time Elapsed: 2.17s\n",
      "Label 124 ja809542r_si_001Page3-3.png 1 Arrows Extracted! Time Elapsed: 1.30s\n",
      "Label 125 ja809542r_si_001Page4-1.png 1 Arrows Extracted! Time Elapsed: 1.92s\n",
      "Label 126 ja809542r_si_001Page4-2.png 1 Arrows Extracted! Time Elapsed: 1.35s\n",
      "Label 127 ja809542r_si_001Page5-1.png 1 Arrows Extracted! Time Elapsed: 1.85s\n",
      "Label 128 ja908194b_si_001Page10-1.png 1 Arrows Extracted! Time Elapsed: 10.83s\n",
      "Label 129 ja908194b_si_001Page12-1.png 1 Arrows Extracted! Time Elapsed: 8.57s\n",
      "Label 130 ja908194b_si_001Page14-1.png 1 Arrows Extracted! Time Elapsed: 4.48s\n",
      "Label 131 ja908194b_si_001Page9-1.png 1 Arrows Extracted! Time Elapsed: 6.34s\n",
      "Label 132 ja9b00391_si_001Page3-2.png 1 Arrows Extracted! Time Elapsed: 2.16s\n",
      "Label 133 ja9b00391_si_001Page4-1.png 1 Arrows Extracted! Time Elapsed: 5.87s\n",
      "Label 134 ja9b00391_si_001Page5-1.png: No Arrows were Identified\n",
      "Label 134 ja9b00391_si_001Page5-1.png: No Arrows were Identified\n",
      "Label 135 ja9b00391_si_001Page5-2.png 1 Arrows Extracted! Time Elapsed: 3.67s\n",
      "Label 136 ja9b00391_si_001Page6-1.png 1 Arrows Extracted! Time Elapsed: 3.62s\n",
      "ja9b06830_si_001Page18-1.png had an Error\n",
      "Label 137 ja9b06830_si_001Page19-1.png 1 Arrows Extracted! Time Elapsed: 11.71s\n",
      "Label 138 ja9b06830_si_001Page21-1.png 1 Arrows Extracted! Time Elapsed: 1.37s\n",
      "Label 139 ja9b07512_si_001Page10-1.png 6 Arrows Extracted! Time Elapsed: 7.41s\n",
      "ja9b07512_si_001Page11-1.png had an Error\n",
      "Label 140 ja9b07512_si_001Page12-1.png 1 Arrows Extracted! Time Elapsed: 2.97s\n",
      "Label 141 ja9b07512_si_001Page13-1.png 5 Arrows Extracted! Time Elapsed: 3.53s\n",
      "ja9b07512_si_001Page14-1.png had an Error\n"
     ]
    }
   ],
   "source": [
    "reactions1 = os.path.join(os.getcwd(), 'test_reaction_ims')\n",
    "\n",
    "arrows = process_paper(model, 'training_and_testing/test_reaction_ims', 'test_ims4')"
   ]
  },
  {
   "cell_type": "code",
   "execution_count": 1,
   "metadata": {},
   "outputs": [
    {
     "ename": "NameError",
     "evalue": "name 'os' is not defined",
     "output_type": "error",
     "traceback": [
      "\u001b[0;31m---------------------------------------------------------------------------\u001b[0m",
      "\u001b[0;31mNameError\u001b[0m                                 Traceback (most recent call last)",
      "\u001b[0;32m<ipython-input-1-33715ae08a3f>\u001b[0m in \u001b[0;36m<module>\u001b[0;34m\u001b[0m\n\u001b[0;32m----> 1\u001b[0;31m \u001b[0mreactions1\u001b[0m \u001b[0;34m=\u001b[0m \u001b[0mos\u001b[0m\u001b[0;34m.\u001b[0m\u001b[0mpath\u001b[0m\u001b[0;34m.\u001b[0m\u001b[0mjoin\u001b[0m\u001b[0;34m(\u001b[0m\u001b[0mos\u001b[0m\u001b[0;34m.\u001b[0m\u001b[0mgetcwd\u001b[0m\u001b[0;34m(\u001b[0m\u001b[0;34m)\u001b[0m\u001b[0;34m,\u001b[0m \u001b[0;34m'training_and_testing'\u001b[0m\u001b[0;34m,\u001b[0m \u001b[0;34m'test_reaction_ims'\u001b[0m\u001b[0;34m)\u001b[0m\u001b[0;34m\u001b[0m\u001b[0;34m\u001b[0m\u001b[0m\n\u001b[0m\u001b[1;32m      2\u001b[0m \u001b[0mreactions\u001b[0m \u001b[0;34m=\u001b[0m \u001b[0msorted\u001b[0m\u001b[0;34m(\u001b[0m\u001b[0mos\u001b[0m\u001b[0;34m.\u001b[0m\u001b[0mlistdir\u001b[0m\u001b[0;34m(\u001b[0m\u001b[0mreactions1\u001b[0m\u001b[0;34m)\u001b[0m\u001b[0;34m)\u001b[0m\u001b[0;34m[\u001b[0m\u001b[0;36m1\u001b[0m\u001b[0;34m:\u001b[0m\u001b[0;34m]\u001b[0m\u001b[0;34m\u001b[0m\u001b[0;34m\u001b[0m\u001b[0m\n\u001b[1;32m      3\u001b[0m \u001b[0midx\u001b[0m \u001b[0;34m=\u001b[0m \u001b[0mreactions\u001b[0m\u001b[0;34m.\u001b[0m\u001b[0mindex\u001b[0m\u001b[0;34m(\u001b[0m\u001b[0;34m'1CroppedPage3-2.png'\u001b[0m\u001b[0;34m)\u001b[0m\u001b[0;34m\u001b[0m\u001b[0;34m\u001b[0m\u001b[0m\n\u001b[1;32m      4\u001b[0m \u001b[0midx\u001b[0m\u001b[0;34m\u001b[0m\u001b[0;34m\u001b[0m\u001b[0m\n\u001b[1;32m      5\u001b[0m \u001b[0mimage\u001b[0m \u001b[0;34m=\u001b[0m \u001b[0mio\u001b[0m\u001b[0;34m.\u001b[0m\u001b[0mimread\u001b[0m\u001b[0;34m(\u001b[0m\u001b[0mos\u001b[0m\u001b[0;34m.\u001b[0m\u001b[0mpath\u001b[0m\u001b[0;34m.\u001b[0m\u001b[0mjoin\u001b[0m\u001b[0;34m(\u001b[0m\u001b[0mreactions1\u001b[0m\u001b[0;34m,\u001b[0m \u001b[0mreactions\u001b[0m\u001b[0;34m[\u001b[0m\u001b[0;36m0\u001b[0m\u001b[0;34m]\u001b[0m\u001b[0;34m)\u001b[0m\u001b[0;34m)\u001b[0m\u001b[0;34m\u001b[0m\u001b[0;34m\u001b[0m\u001b[0m\n",
      "\u001b[0;31mNameError\u001b[0m: name 'os' is not defined"
     ]
    }
   ],
   "source": [
    "reactions1 = os.path.join(os.getcwd(), 'training_and_testing', 'test_reaction_ims')\n",
    "reactions = sorted(os.listdir(reactions1))[1:]\n",
    "idx = reactions.index('1CroppedPage3-2.png')\n",
    "idx\n",
    "image = io.imread(os.path.join(reactions1, reactions[0]))\n",
    "#image = skimage.transform.rotate(image, 180)\n",
    "io.imshow(image)\n",
    "# seg_im = segment_image(image)\n",
    "# # image = binarize(image)\n",
    "# # image.shape\n",
    "# # seg_im = segment_image(image)\n",
    "info, final_contours, averages, directions = pipeline(image, doc_name = '', count=0)\n",
    "# # for i, item in enumerate(reactions):\n",
    "# #     print(\"Element \" + str(i) + ': ' + item)"
   ]
  },
  {
   "cell_type": "code",
   "execution_count": 18,
   "metadata": {},
   "outputs": [
    {
     "data": {
      "image/png": "[encoded data removed]",
      "text/plain": [
       "<Figure size 432x288 with 1 Axes>"
      ]
     },
     "metadata": {
      "needs_background": "light"
     },
     "output_type": "display_data"
    },
    {
     "name": "stdout",
     "output_type": "stream",
     "text": [
      "[{'Centroid': (292.0, 50.0), 'Average': (291.77911646586347, 49.99196787148595), 'Direction': 'Left'}]\n"
     ]
    }
   ],
   "source": [
    "show_contours(image, final_contours, num = -1)\n",
    "print(info)"
   ]
  },
  {
   "cell_type": "code",
   "execution_count": 8,
   "metadata": {},
   "outputs": [
    {
     "data": {
      "text/plain": [
       "<matplotlib.image.AxesImage at 0x7fb2e6d56f50>"
      ]
     },
     "execution_count": 8,
     "metadata": {},
     "output_type": "execute_result"
    },
    {
     "data": {
      "image/png": "[encoded data removed]",
      "text/plain": [
       "<Figure size 432x288 with 1 Axes>"
      ]
     },
     "metadata": {
      "needs_background": "light"
     },
     "output_type": "display_data"
    }
   ],
   "source": [
    "reactions1 = os.path.join(os.getcwd(), 'training_and_testing', 'test_reaction_ims')\n",
    "reactions = sorted(os.listdir(reactions1))[1:]\n",
    "# idx = reactions.index('1CroppedPage3-2.png')\n",
    "image = io.imread(os.path.join(reactions1, 'CroppedPage6-1 2.png'))\n",
    "io.imshow(image)"
   ]
  },
  {
   "cell_type": "code",
   "execution_count": 17,
   "metadata": {},
   "outputs": [],
   "source": [
    "bin_fig = binarize(image)"
   ]
  },
  {
   "cell_type": "code",
   "execution_count": 19,
   "metadata": {},
   "outputs": [
    {
     "name": "stderr",
     "output_type": "stream",
     "text": [
      "/Users/aryamevada/anaconda3/lib/python3.7/site-packages/ipykernel_launcher.py:22: UserWarning: bin_closed.png is a low contrast image\n",
      "Lossy conversion from int64 to uint8. Range [0, 1]. Convert image to uint8 prior to saving to suppress this warning.\n"
     ]
    }
   ],
   "source": [
    "skel_pixel_ratio = skeletonize_area_ratio(image)\n",
    "\n",
    "if skel_pixel_ratio > 0.025:\n",
    "    kernel = 1\n",
    "    closed_fig = binary_close(bin_fig, size=kernel)\n",
    "    #print(\"Segmentation kernel size =\" , kernel)\n",
    "\n",
    "elif 0.02 < skel_pixel_ratio <= 0.025:\n",
    "    kernel = 2\n",
    "    closed_fig = binary_close(bin_fig, size=kernel)\n",
    "    #print(\"Segmentation kernel size =\", kernel)\n",
    "\n",
    "elif 0.015 < skel_pixel_ratio <= 0.02:\n",
    "    kernel = 4\n",
    "    closed_fig = binary_close(bin_fig, size=kernel)\n",
    "    #print(\"Segmentation kernel size =\", kernel)\n",
    "\n",
    "else:\n",
    "    kernel = 5\n",
    "    closed_fig = binary_close(bin_fig, size=kernel)\n",
    "    #print(\"Segmentation kernel size =\", kernel)\n",
    "io.imsave('bin_closed.png', closed_fig.astype(int))"
   ]
  },
  {
   "cell_type": "code",
   "execution_count": null,
   "metadata": {},
   "outputs": [],
   "source": []
  }
 ],
 "metadata": {
  "kernelspec": {
   "display_name": "Python 3",
   "language": "python",
   "name": "python3"
  },
  "language_info": {
   "codemirror_mode": {
    "name": "ipython",
    "version": 3
   },
   "file_extension": ".py",
   "mimetype": "text/x-python",
   "name": "python",
   "nbconvert_exporter": "python",
   "pygments_lexer": "ipython3",
   "version": "3.7.7"
  }
 },
 "nbformat": 4,
 "nbformat_minor": 4
}
