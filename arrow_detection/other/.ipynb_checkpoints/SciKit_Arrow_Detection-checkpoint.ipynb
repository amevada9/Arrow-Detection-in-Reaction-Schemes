{
 "cells": [
  {
   "cell_type": "markdown",
   "metadata": {},
   "source": [
    "# Using Scikit-Image to do Arrow Matching"
   ]
  },
  {
   "cell_type": "code",
   "execution_count": 10,
   "metadata": {},
   "outputs": [],
   "source": [
    "import os\n",
    "import cv2\n",
    "import math \n",
    "import imutils\n",
    "import json\n",
    "import copy\n",
    "import logging\n",
    "\n",
    "import scipy\n",
    "import numpy as np\n",
    "from scipy import ndimage as ndi\n",
    "import matplotlib.pyplot as plt\n",
    "\n",
    "import sklearn\n",
    "from sklearn.cluster import KMeans\n",
    "\n",
    "import skimage\n",
    "from skimage import io\n",
    "from skimage.util import pad\n",
    "from skimage.color import rgb2gray\n",
    "from skimage.measure import regionprops\n",
    "from skimage.measure import find_contours\n",
    "from skimage.util import crop as crop_skimage\n",
    "from skimage.morphology import binary_closing, disk\n",
    "from skimage.morphology import skeletonize as skeletonize_skimage\n",
    "\n",
    "from arrow_utils import arrow_average, arrow_centroid, line_mag, get_orientation, get_direction\n",
    "from image_utils import binary_close, binarize, binary_floodfill, skeletonize, pixel_ratio, skeletonize_area_ratio"
   ]
  },
  {
   "cell_type": "code",
   "execution_count": 12,
   "metadata": {},
   "outputs": [],
   "source": [
    "def scikit_show_contours(image, contours):\n",
    "    # Display the image and plot all contours found\n",
    "    fig, ax = plt.subplots()\n",
    "    ax.imshow(image, cmap=plt.cm.gray)\n",
    "\n",
    "    for n, contour in enumerate(contours):\n",
    "        ax.plot(contour[:, 1], contour[:, 0], linewidth = 3)\n",
    "\n",
    "    ax.axis('image')\n",
    "    ax.set_xticks([])\n",
    "    ax.set_yticks([])\n",
    "    plt.show()"
   ]
  },
  {
   "cell_type": "code",
   "execution_count": 13,
   "metadata": {},
   "outputs": [],
   "source": [
    "# We need to get the full set of arrows, and try to find a very strict match\n",
    "# In the set. WE can also look into a dynamic average or something or an autofail or something\n",
    "# to make it effcient. \n",
    "def is_arrow_match(image_contour, arrow_contours = arrows_contour):\n",
    "    '''\n",
    "    Revised arrow matching method that uses the matchShapes() method in\n",
    "    OpenCV to match the contours that are found in an image. We will need to work the\n",
    "    threshold a little bit so that we can get the allows in everytime. For now I want to make it such\n",
    "    that we get the arrows every time, and if there are extraneous ones we can filter them later\n",
    "    \n",
    "    @PACKAGES:\n",
    "        - cv2\n",
    "    @PARAM:\n",
    "        -image_contour: contour from an image that we want to check \n",
    "                        if its an arrow\n",
    "        - arrow_contour: a training set of arrows and such so we can match\n",
    "                         the iamge_contour to the arrows \n",
    "    @RETURN:\n",
    "        - True if the image contour is likely a arrow, false if not \n",
    "        - We will return false at the end of the arrow array, no failsafe in place\n",
    "          will need to update time complexity \n",
    "    '''\n",
    "    for arrow in arrow_contours:\n",
    "        match = cv2.matchShapes(image_contour, arrow, 1, 0)\n",
    "        if match < 5 :\n",
    "            return True\n",
    "    return False"
   ]
  },
  {
   "cell_type": "code",
   "execution_count": 14,
   "metadata": {},
   "outputs": [],
   "source": [
    "def find_arrows_ski(image):\n",
    "    ''' \n",
    "    Gets and draws arrow contours from the image onto the image\n",
    "    Need to work and making it save an image and/or getting the points so we \n",
    "    can get the centroid of the shape, thus knowing which side is products and which sides is reactants\n",
    "    \n",
    "    @PACKAGES:\n",
    "        - CV2: needed for contour extraction\n",
    "        - numpy: image array handling \n",
    "    @PARAM: \n",
    "        - image: a numpy array from a cv2 loaded image. Needs to be loaded by cv2 to allow for BGR conversion\n",
    "                 also will be converted from here\n",
    "    @RETURN:\n",
    "        - the image with the drawn in contours. Later will make it return the contours so that we can get the \n",
    "          \n",
    "    '''\n",
    "    list_contours = []\n",
    "    cnts = find_contours(image, 0) \n",
    "    for cnt in cnts: \n",
    "#         area = cv2.contourArea(cnt)\n",
    "#         # Shortlisting the regions based on their area.  \n",
    "#         if area >= 100 and area <= 800:\n",
    "#             # approx = cv2.approxPolyDP(cnt, 0.001 * cv2.arcLength(cnt, True), True) \n",
    "#             # Reaction arrows have 5, 6, 7, or 8 sides so we will use that to narrow it down\n",
    "#             # Also check if it is an arrow after that before drawing contours\n",
    "        if is_arrow_match(cnt):\n",
    "            list_contours.append(cnt)\n",
    "    return list_contours"
   ]
  },
  {
   "cell_type": "code",
   "execution_count": 15,
   "metadata": {},
   "outputs": [],
   "source": [
    "def segment_image(image):\n",
    "    bin_fig = binarize(image)\n",
    "    skel_pixel_ratio = skeletonize_area_ratio(image)\n",
    "    \n",
    "    if skel_pixel_ratio > 0.025:\n",
    "        kernel = 4\n",
    "        closed_fig = binary_close(bin_fig, size=kernel)\n",
    "        print(\"Segmentation kernel size =\" , kernel)\n",
    "\n",
    "    elif 0.02 < skel_pixel_ratio <= 0.025:\n",
    "        kernel = 6\n",
    "        closed_fig = binary_close(bin_fig, size=kernel)\n",
    "        print(\"Segmentation kernel size =\", kernel)\n",
    "\n",
    "    elif 0.015 < skel_pixel_ratio <= 0.02:\n",
    "        kernel = 10\n",
    "        closed_fig = binary_close(bin_fig, size=kernel)\n",
    "        print(\"Segmentation kernel size =\", kernel)\n",
    "\n",
    "    else:\n",
    "        kernel = 15\n",
    "        closed_fig = binary_close(bin_fig, size=kernel)\n",
    "        print(\"Segmentation kernel size =\", kernel)\n",
    "        \n",
    "    fill_img = binary_floodfill(closed_fig)\n",
    "    \n",
    "    return fill_img"
   ]
  },
  {
   "cell_type": "code",
   "execution_count": 25,
   "metadata": {},
   "outputs": [],
   "source": [
    "def get_image_contours(image):\n",
    "    seg_im = segment_image(image)\n",
    "    cnts = find_contours(seg_im, 0) \n",
    "    return cnts"
   ]
  },
  {
   "cell_type": "code",
   "execution_count": 26,
   "metadata": {},
   "outputs": [],
   "source": [
    "def pipeline(image_name = None, image = None):\n",
    "    '''\n",
    "    Full extraction pipeline, from image name to printed contours and \n",
    "    an image representation of the arrows identified. Will print all necessary \n",
    "    information for the user and will allow the user to see how each image is working\n",
    "    \n",
    "    Steps to Pipeline:\n",
    "    (1) Extract the arrow contours using find_arrow()\n",
    "    (2) Find the Averages of the points on the arrow\n",
    "    (3) Find the centroid (absolute middle) of the arrow\n",
    "        - (2) and (3) will be used to determine direction, \n",
    "          whichever side the average is away from the centroid is the direction\n",
    "          of the arrow pointing\n",
    "    (4) Find the orientation of the arrow (Horizontal or Vertical)\n",
    "    (5) Print all the information \n",
    "    (6) Show the image with the arrow contours \n",
    "    (7) Return the list of contours \n",
    "    \n",
    "    @PARAM:\n",
    "        - image_name: name of the image we want to run the pipeline on\n",
    "        - image: Could also supply just loaded Cv2 image, but then dont insert\n",
    "                the name of the image\n",
    "                \n",
    "        Examples:\n",
    "        \n",
    "        - If image is already loaded, use this format:\n",
    "            # Loading Image \n",
    "            image = cv2.imread({whatever directory})\n",
    "            scikit_pipeline(image = diff_image)\n",
    "            \n",
    "            Note: This is preferred method, allows for image to be stored in \n",
    "            other directories and makes bulk detection easier\n",
    "            \n",
    "        - If you want to use the loading in the function, use this format:\n",
    "            scikit_pipeline(image_name = 'image.png')\n",
    "            \n",
    "            Note: This format is not as effective, it is better to load the images ahead \n",
    "            of time especially if doing bulk conversions\n",
    "        \n",
    "    @RETURN:\n",
    "        - 0 if successful, 1 if there is an issue\n",
    "    '''\n",
    "    if image_name != None:\n",
    "        try:\n",
    "            image = io.imread(os.path.join(os.getcwd(), image_name))\n",
    "        except error:\n",
    "            print('Image name is not found, change directory or edit name. Function will stop now')\n",
    "            return 1\n",
    "    # Get the arrow contours and then get the necessary information from it\n",
    "    seg_im = segment_image(image)\n",
    "    arrow_contours = find_arrows_ski(seg_im)\n",
    "    # If we dont find any arrows, return a message\n",
    "    if len(arrow_contours) == 0:\n",
    "        print(\"No arrows were found in the image\")\n",
    "        io.imshow(seg_im)\n",
    "        return 1\n",
    "    print('Number of Arrow Contours: ', len(arrow_contours), '\\n')\n",
    "#     averages = arrow_average(arrow_contours)\n",
    "#     centroids = arrow_centroid(arrow_contours)\n",
    "#     orientation = get_orientation(arrow_contours)\n",
    "#     direction = get_direction(arrow_contours)\n",
    "#     print()\n",
    "    # io.imshow(seg_im)\n",
    "    io.imshow(scikit_show_contours(image, arrow_contours))\n",
    "    return arrow_contours"
   ]
  },
  {
   "cell_type": "code",
   "execution_count": 30,
   "metadata": {},
   "outputs": [
    {
     "name": "stdout",
     "output_type": "stream",
     "text": [
      "Segmentation kernel size = 15\n",
      "Segmentation kernel size = 6\n",
      "Segmentation kernel size = 6\n",
      "Segmentation kernel size = 6\n",
      "Segmentation kernel size = 6\n",
      "Segmentation kernel size = 6\n",
      "Segmentation kernel size = 6\n",
      "Segmentation kernel size = 6\n",
      "Segmentation kernel size = 6\n",
      "Segmentation kernel size = 6\n",
      "Segmentation kernel size = 6\n",
      "Segmentation kernel size = 10\n",
      "Segmentation kernel size = 6\n",
      "Segmentation kernel size = 6\n",
      "Segmentation kernel size = 6\n",
      "Segmentation kernel size = 6\n",
      "Segmentation kernel size = 4\n",
      "Segmentation kernel size = 6\n",
      "Segmentation kernel size = 6\n",
      "Segmentation kernel size = 10\n",
      "Segmentation kernel size = 10\n",
      "Segmentation kernel size = 10\n",
      "Segmentation kernel size = 10\n",
      "Segmentation kernel size = 10\n",
      "Segmentation kernel size = 10\n",
      "Segmentation kernel size = 10\n",
      "Segmentation kernel size = 10\n",
      "Segmentation kernel size = 10\n",
      "Segmentation kernel size = 10\n",
      "Segmentation kernel size = 10\n",
      "Segmentation kernel size = 6\n",
      "Segmentation kernel size = 6\n",
      "Segmentation kernel size = 10\n",
      "Segmentation kernel size = 10\n",
      "Segmentation kernel size = 10\n",
      "Segmentation kernel size = 10\n",
      "Segmentation kernel size = 10\n",
      "Segmentation kernel size = 10\n",
      "Segmentation kernel size = 10\n",
      "Segmentation kernel size = 6\n",
      "Segmentation kernel size = 6\n",
      "Segmentation kernel size = 6\n",
      "Segmentation kernel size = 6\n"
     ]
    }
   ],
   "source": [
    "# Load all the arrows that we have and their respective contours \n",
    "arrow_dir = os.path.join(os.getcwd(), 'arrows')\n",
    "list_arrows = sorted(os.listdir(arrow_dir))\n",
    "list_arrows = list_arrows[2:]\n",
    "arrows_contour = []\n",
    "for arrow in list_arrows:\n",
    "    arrows_image = io.imread(os.path.join(arrow_dir, arrow))\n",
    "    contours = get_image_contours(image = arrows_image)\n",
    "    arrows_contour.append(contours)"
   ]
  },
  {
   "cell_type": "code",
   "execution_count": 31,
   "metadata": {},
   "outputs": [
    {
     "name": "stdout",
     "output_type": "stream",
     "text": [
      "Segmentation kernel size = 6\n",
      "Segmentation kernel size = 6\n",
      "Segmentation kernel size = 6\n",
      "Segmentation kernel size = 6\n",
      "Segmentation kernel size = 6\n",
      "Segmentation kernel size = 6\n",
      "Segmentation kernel size = 6\n",
      "Segmentation kernel size = 6\n",
      "Segmentation kernel size = 6\n",
      "Segmentation kernel size = 6\n",
      "Segmentation kernel size = 6\n",
      "Segmentation kernel size = 6\n",
      "Segmentation kernel size = 6\n",
      "Segmentation kernel size = 6\n",
      "Segmentation kernel size = 6\n",
      "Segmentation kernel size = 6\n",
      "Segmentation kernel size = 6\n",
      "Segmentation kernel size = 6\n",
      "Segmentation kernel size = 6\n",
      "Segmentation kernel size = 6\n",
      "Segmentation kernel size = 6\n",
      "Segmentation kernel size = 6\n",
      "Segmentation kernel size = 6\n",
      "Segmentation kernel size = 6\n",
      "Segmentation kernel size = 6\n",
      "Segmentation kernel size = 6\n",
      "Segmentation kernel size = 6\n",
      "Segmentation kernel size = 6\n",
      "Segmentation kernel size = 6\n",
      "Segmentation kernel size = 6\n",
      "Segmentation kernel size = 6\n",
      "Segmentation kernel size = 6\n",
      "Segmentation kernel size = 6\n",
      "Segmentation kernel size = 6\n",
      "Segmentation kernel size = 6\n",
      "Segmentation kernel size = 6\n",
      "Segmentation kernel size = 6\n",
      "Segmentation kernel size = 6\n",
      "Segmentation kernel size = 6\n",
      "Segmentation kernel size = 6\n",
      "Segmentation kernel size = 6\n",
      "Segmentation kernel size = 6\n"
     ]
    }
   ],
   "source": [
    "# Load Molecules and Chemical Structures\n",
    "struct_dir = os.path.join(os.getcwd(), 'random_molecules')\n",
    "list_structs = sorted(os.listdir(struct_dir))\n",
    "list_structs = list_structs[1:]\n",
    "molecule_contours = []\n",
    "for molecule in list_structs:\n",
    "    mol_image = io.imread(os.path.join(struct_dir, molecule))\n",
    "    mol_cnts = get_image_contours(image = arrows_image)\n",
    "    molecule_contours.append(mol_cnts)"
   ]
  },
  {
   "cell_type": "code",
   "execution_count": 32,
   "metadata": {},
   "outputs": [
    {
     "name": "stdout",
     "output_type": "stream",
     "text": [
      "Segmentation kernel size = 10\n",
      "63\n",
      "Number of Contours:  None\n"
     ]
    },
    {
     "data": {
      "text/plain": [
       "<matplotlib.image.AxesImage at 0x7fcdf9cb6d90>"
      ]
     },
     "execution_count": 32,
     "metadata": {},
     "output_type": "execute_result"
    },
    {
     "data": {
      "image/png": "[encoded data removed]",
      "text/plain": [
       "<Figure size 432x288 with 1 Axes>"
      ]
     },
     "metadata": {
      "needs_background": "light"
     },
     "output_type": "display_data"
    }
   ],
   "source": [
    "im2 = io.imread(os.path.join(struct_dir, list_structs[5]))\n",
    "filled_im = segment_image(im2)\n",
    "contours = find_contours(im2, 1)\n",
    "print('Number of Contours: ', print(len(contours)))\n",
    "io.imshow(filled_im)"
   ]
  },
  {
   "cell_type": "code",
   "execution_count": 20,
   "metadata": {},
   "outputs": [
    {
     "name": "stdout",
     "output_type": "stream",
     "text": [
      "Segmentation kernel size = 10\n",
      "No arrows were found in the image\n"
     ]
    },
    {
     "data": {
      "image/png": "[encoded data removed]",
      "text/plain": [
       "<Figure size 432x288 with 1 Axes>"
      ]
     },
     "metadata": {
      "needs_background": "light"
     },
     "output_type": "display_data"
    }
   ],
   "source": [
    "array = pipeline(image = im2)"
   ]
  },
  {
   "cell_type": "code",
   "execution_count": 35,
   "metadata": {},
   "outputs": [
    {
     "name": "stdout",
     "output_type": "stream",
     "text": [
      "Segmentation kernel size = 4\n",
      "No arrows were found in the image\n"
     ]
    },
    {
     "data": {
      "image/png": "[encoded data removed]",
      "text/plain": [
       "<Figure size 432x288 with 1 Axes>"
      ]
     },
     "metadata": {
      "needs_background": "light"
     },
     "output_type": "display_data"
    }
   ],
   "source": [
    "reactions = os.path.join(os.getcwd(), 'sample_reactions')\n",
    "test_image = io.imread(os.path.join(reactions, 'Page18-1.png'))\n",
    "array = pipeline(image = test_image)"
   ]
  },
  {
   "cell_type": "code",
   "execution_count": 22,
   "metadata": {},
   "outputs": [
    {
     "name": "stdout",
     "output_type": "stream",
     "text": [
      "(3751,)\n"
     ]
    },
    {
     "data": {
      "image/png": "[encoded data removed]",
      "text/plain": [
       "<Figure size 432x288 with 1 Axes>"
      ]
     },
     "metadata": {
      "needs_background": "light"
     },
     "output_type": "display_data"
    }
   ],
   "source": [
    "#training_set = arrows_contour + molecule_contours\n",
    "training_set = molecule_contours[1]\n",
    "#training_set = arrows_contour\n",
    "training_set = np.array(training_set)\n",
    "x = []\n",
    "y = []\n",
    "for i in range(len(training_set)):\n",
    "    for j in range(len(training_set[i])):\n",
    "            x.append(training_set[i][j][0])\n",
    "            y.append(training_set[i][j][1])\n",
    "#             for l in range(len(training_set[i][j][k])):\n",
    "#                 if l == 0:\n",
    "#                     x.append(training_set[i][j][k][l])\n",
    "#                 else:\n",
    "#                     y.append(training_set[i][j][k][l])\n",
    "print(np.array(y).shape)\n",
    "plt.scatter(x, y, c = 'white', marker ='o', edgecolor= 'black', s = 50)\n",
    "plt.show()"
   ]
  },
  {
   "cell_type": "code",
   "execution_count": 23,
   "metadata": {},
   "outputs": [
    {
     "ename": "NameError",
     "evalue": "name 'training_contours' is not defined",
     "output_type": "error",
     "traceback": [
      "\u001b[0;31m---------------------------------------------------------------------------\u001b[0m",
      "\u001b[0;31mNameError\u001b[0m                                 Traceback (most recent call last)",
      "\u001b[0;32m<ipython-input-23-ea0944f2d702>\u001b[0m in \u001b[0;36m<module>\u001b[0;34m\u001b[0m\n\u001b[0;32m----> 1\u001b[0;31m \u001b[0;32mdef\u001b[0m \u001b[0mget_clusters\u001b[0m\u001b[0;34m(\u001b[0m\u001b[0mimage_set\u001b[0m\u001b[0;34m,\u001b[0m \u001b[0mtraining_contours\u001b[0m \u001b[0;34m=\u001b[0m \u001b[0mtraining_contours\u001b[0m\u001b[0;34m,\u001b[0m \u001b[0mclusters\u001b[0m \u001b[0;34m=\u001b[0m \u001b[0;36m3\u001b[0m\u001b[0;34m)\u001b[0m\u001b[0;34m:\u001b[0m\u001b[0;34m\u001b[0m\u001b[0;34m\u001b[0m\u001b[0m\n\u001b[0m\u001b[1;32m      2\u001b[0m     \u001b[0mkm\u001b[0m \u001b[0;34m=\u001b[0m \u001b[0mKMeans\u001b[0m\u001b[0;34m(\u001b[0m\u001b[0mn_clusters\u001b[0m \u001b[0;34m=\u001b[0m \u001b[0mclusters\u001b[0m\u001b[0;34m)\u001b[0m\u001b[0;34m\u001b[0m\u001b[0;34m\u001b[0m\u001b[0m\n\u001b[1;32m      3\u001b[0m     \u001b[0mclusters\u001b[0m \u001b[0;34m=\u001b[0m \u001b[0mkm\u001b[0m\u001b[0;34m.\u001b[0m\u001b[0mfit\u001b[0m\u001b[0;34m(\u001b[0m\u001b[0mnp\u001b[0m\u001b[0;34m.\u001b[0m\u001b[0marray\u001b[0m\u001b[0;34m(\u001b[0m\u001b[0mtraining_contours\u001b[0m\u001b[0;34m)\u001b[0m\u001b[0;34m)\u001b[0m\u001b[0;34m\u001b[0m\u001b[0;34m\u001b[0m\u001b[0m\n\u001b[1;32m      4\u001b[0m \u001b[0;34m\u001b[0m\u001b[0m\n",
      "\u001b[0;31mNameError\u001b[0m: name 'training_contours' is not defined"
     ]
    }
   ],
   "source": [
    "def get_clusters(image_set, training_contours = training_contours, clusters = 3):\n",
    "    km = KMeans(n_clusters = clusters)\n",
    "    clusters = km.fit(np.array(training_contours))\n",
    "    "
   ]
  },
  {
   "cell_type": "code",
   "execution_count": null,
   "metadata": {},
   "outputs": [],
   "source": []
  },
  {
   "cell_type": "code",
   "execution_count": null,
   "metadata": {},
   "outputs": [],
   "source": []
  }
 ],
 "metadata": {
  "kernelspec": {
   "display_name": "Python 3",
   "language": "python",
   "name": "python3"
  },
  "language_info": {
   "codemirror_mode": {
    "name": "ipython",
    "version": 3
   },
   "file_extension": ".py",
   "mimetype": "text/x-python",
   "name": "python",
   "nbconvert_exporter": "python",
   "pygments_lexer": "ipython3",
   "version": "3.7.7"
  }
 },
 "nbformat": 4,
 "nbformat_minor": 4
}
